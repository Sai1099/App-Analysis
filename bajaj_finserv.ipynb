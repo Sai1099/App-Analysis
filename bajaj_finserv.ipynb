{
  "nbformat": 4,
  "nbformat_minor": 0,
  "metadata": {
    "colab": {
      "provenance": [],
      "authorship_tag": "ABX9TyNi39+hHcjnFhisc4mFZjz2",
      "include_colab_link": true
    },
    "kernelspec": {
      "name": "python3",
      "display_name": "Python 3"
    },
    "language_info": {
      "name": "python"
    }
  },
  "cells": [
    {
      "cell_type": "markdown",
      "metadata": {
        "id": "view-in-github",
        "colab_type": "text"
      },
      "source": [
        "<a href=\"https://colab.research.google.com/github/Sai1099/App-Analysis/blob/main/bajaj_finserv.ipynb\" target=\"_parent\"><img src=\"https://colab.research.google.com/assets/colab-badge.svg\" alt=\"Open In Colab\"/></a>"
      ]
    },
    {
      "cell_type": "code",
      "execution_count": 2,
      "metadata": {
        "colab": {
          "base_uri": "https://localhost:8080/"
        },
        "id": "XsRKy-SeJ_Vc",
        "outputId": "7c701c9e-7817-45db-c3cc-1d1d9f71e6b4"
      },
      "outputs": [
        {
          "output_type": "stream",
          "name": "stdout",
          "text": [
            "Collecting findspark\n",
            "  Downloading findspark-2.0.1-py2.py3-none-any.whl.metadata (352 bytes)\n",
            "Downloading findspark-2.0.1-py2.py3-none-any.whl (4.4 kB)\n",
            "Installing collected packages: findspark\n",
            "Successfully installed findspark-2.0.1\n"
          ]
        }
      ],
      "source": [
        "!pip install findspark"
      ]
    },
    {
      "cell_type": "code",
      "source": [
        "!pip install pyspark"
      ],
      "metadata": {
        "colab": {
          "base_uri": "https://localhost:8080/"
        },
        "id": "d73o6RI1KiLb",
        "outputId": "438f8f40-41d3-4589-b1aa-f3199ca3f3f8"
      },
      "execution_count": 3,
      "outputs": [
        {
          "output_type": "stream",
          "name": "stdout",
          "text": [
            "Collecting pyspark\n",
            "  Downloading pyspark-3.5.3.tar.gz (317.3 MB)\n",
            "\u001b[2K     \u001b[90m━━━━━━━━━━━━━━━━━━━━━━━━━━━━━━━━━━━━━━━━\u001b[0m \u001b[32m317.3/317.3 MB\u001b[0m \u001b[31m4.9 MB/s\u001b[0m eta \u001b[36m0:00:00\u001b[0m\n",
            "\u001b[?25h  Preparing metadata (setup.py) ... \u001b[?25l\u001b[?25hdone\n",
            "Requirement already satisfied: py4j==0.10.9.7 in /usr/local/lib/python3.10/dist-packages (from pyspark) (0.10.9.7)\n",
            "Building wheels for collected packages: pyspark\n",
            "  Building wheel for pyspark (setup.py) ... \u001b[?25l\u001b[?25hdone\n",
            "  Created wheel for pyspark: filename=pyspark-3.5.3-py2.py3-none-any.whl size=317840625 sha256=335ac431e0518f1ba258e201f2cfd859461a7ab7547c1fe25c0f4f4063e48129\n",
            "  Stored in directory: /root/.cache/pip/wheels/1b/3a/92/28b93e2fbfdbb07509ca4d6f50c5e407f48dce4ddbda69a4ab\n",
            "Successfully built pyspark\n",
            "Installing collected packages: pyspark\n",
            "Successfully installed pyspark-3.5.3\n"
          ]
        }
      ]
    },
    {
      "cell_type": "code",
      "source": [
        "import pyspark"
      ],
      "metadata": {
        "id": "JmTw3F6QKo94"
      },
      "execution_count": 4,
      "outputs": []
    },
    {
      "cell_type": "code",
      "source": [
        "from pyspark.sql import SparkSession"
      ],
      "metadata": {
        "id": "2DUhr_gKLLYE"
      },
      "execution_count": 5,
      "outputs": []
    },
    {
      "cell_type": "code",
      "source": [
        "from pyspark.sql.types import StructField,StructType,IntegerType,StringType"
      ],
      "metadata": {
        "id": "WOvblwwDlDw9"
      },
      "execution_count": 6,
      "outputs": []
    },
    {
      "cell_type": "code",
      "source": [
        "from pyspark.sql.functions import *"
      ],
      "metadata": {
        "id": "0LXcYY-ZnM8f"
      },
      "execution_count": 7,
      "outputs": []
    },
    {
      "cell_type": "code",
      "source": [
        "spark = SparkSession.builder.appName(\"Bajaj-finserv\").getOrCreate()"
      ],
      "metadata": {
        "id": "BPXhMGPenT2v"
      },
      "execution_count": 77,
      "outputs": []
    },
    {
      "cell_type": "code",
      "source": [
        "!pip install spacy"
      ],
      "metadata": {
        "colab": {
          "base_uri": "https://localhost:8080/"
        },
        "id": "EdqizdA9nii9",
        "outputId": "aebe6357-8c15-41e4-f5a9-4fe53cbcc477"
      },
      "execution_count": 9,
      "outputs": [
        {
          "output_type": "stream",
          "name": "stdout",
          "text": [
            "Requirement already satisfied: spacy in /usr/local/lib/python3.10/dist-packages (3.7.6)\n",
            "Requirement already satisfied: spacy-legacy<3.1.0,>=3.0.11 in /usr/local/lib/python3.10/dist-packages (from spacy) (3.0.12)\n",
            "Requirement already satisfied: spacy-loggers<2.0.0,>=1.0.0 in /usr/local/lib/python3.10/dist-packages (from spacy) (1.0.5)\n",
            "Requirement already satisfied: murmurhash<1.1.0,>=0.28.0 in /usr/local/lib/python3.10/dist-packages (from spacy) (1.0.10)\n",
            "Requirement already satisfied: cymem<2.1.0,>=2.0.2 in /usr/local/lib/python3.10/dist-packages (from spacy) (2.0.8)\n",
            "Requirement already satisfied: preshed<3.1.0,>=3.0.2 in /usr/local/lib/python3.10/dist-packages (from spacy) (3.0.9)\n",
            "Requirement already satisfied: thinc<8.3.0,>=8.2.2 in /usr/local/lib/python3.10/dist-packages (from spacy) (8.2.5)\n",
            "Requirement already satisfied: wasabi<1.2.0,>=0.9.1 in /usr/local/lib/python3.10/dist-packages (from spacy) (1.1.3)\n",
            "Requirement already satisfied: srsly<3.0.0,>=2.4.3 in /usr/local/lib/python3.10/dist-packages (from spacy) (2.4.8)\n",
            "Requirement already satisfied: catalogue<2.1.0,>=2.0.6 in /usr/local/lib/python3.10/dist-packages (from spacy) (2.0.10)\n",
            "Requirement already satisfied: weasel<0.5.0,>=0.1.0 in /usr/local/lib/python3.10/dist-packages (from spacy) (0.4.1)\n",
            "Requirement already satisfied: typer<1.0.0,>=0.3.0 in /usr/local/lib/python3.10/dist-packages (from spacy) (0.12.5)\n",
            "Requirement already satisfied: tqdm<5.0.0,>=4.38.0 in /usr/local/lib/python3.10/dist-packages (from spacy) (4.66.5)\n",
            "Requirement already satisfied: requests<3.0.0,>=2.13.0 in /usr/local/lib/python3.10/dist-packages (from spacy) (2.32.3)\n",
            "Requirement already satisfied: pydantic!=1.8,!=1.8.1,<3.0.0,>=1.7.4 in /usr/local/lib/python3.10/dist-packages (from spacy) (2.9.2)\n",
            "Requirement already satisfied: jinja2 in /usr/local/lib/python3.10/dist-packages (from spacy) (3.1.4)\n",
            "Requirement already satisfied: setuptools in /usr/local/lib/python3.10/dist-packages (from spacy) (71.0.4)\n",
            "Requirement already satisfied: packaging>=20.0 in /usr/local/lib/python3.10/dist-packages (from spacy) (24.1)\n",
            "Requirement already satisfied: langcodes<4.0.0,>=3.2.0 in /usr/local/lib/python3.10/dist-packages (from spacy) (3.4.0)\n",
            "Requirement already satisfied: numpy>=1.19.0 in /usr/local/lib/python3.10/dist-packages (from spacy) (1.26.4)\n",
            "Requirement already satisfied: language-data>=1.2 in /usr/local/lib/python3.10/dist-packages (from langcodes<4.0.0,>=3.2.0->spacy) (1.2.0)\n",
            "Requirement already satisfied: annotated-types>=0.6.0 in /usr/local/lib/python3.10/dist-packages (from pydantic!=1.8,!=1.8.1,<3.0.0,>=1.7.4->spacy) (0.7.0)\n",
            "Requirement already satisfied: pydantic-core==2.23.4 in /usr/local/lib/python3.10/dist-packages (from pydantic!=1.8,!=1.8.1,<3.0.0,>=1.7.4->spacy) (2.23.4)\n",
            "Requirement already satisfied: typing-extensions>=4.6.1 in /usr/local/lib/python3.10/dist-packages (from pydantic!=1.8,!=1.8.1,<3.0.0,>=1.7.4->spacy) (4.12.2)\n",
            "Requirement already satisfied: charset-normalizer<4,>=2 in /usr/local/lib/python3.10/dist-packages (from requests<3.0.0,>=2.13.0->spacy) (3.3.2)\n",
            "Requirement already satisfied: idna<4,>=2.5 in /usr/local/lib/python3.10/dist-packages (from requests<3.0.0,>=2.13.0->spacy) (3.10)\n",
            "Requirement already satisfied: urllib3<3,>=1.21.1 in /usr/local/lib/python3.10/dist-packages (from requests<3.0.0,>=2.13.0->spacy) (2.2.3)\n",
            "Requirement already satisfied: certifi>=2017.4.17 in /usr/local/lib/python3.10/dist-packages (from requests<3.0.0,>=2.13.0->spacy) (2024.8.30)\n",
            "Requirement already satisfied: blis<0.8.0,>=0.7.8 in /usr/local/lib/python3.10/dist-packages (from thinc<8.3.0,>=8.2.2->spacy) (0.7.11)\n",
            "Requirement already satisfied: confection<1.0.0,>=0.0.1 in /usr/local/lib/python3.10/dist-packages (from thinc<8.3.0,>=8.2.2->spacy) (0.1.5)\n",
            "Requirement already satisfied: click>=8.0.0 in /usr/local/lib/python3.10/dist-packages (from typer<1.0.0,>=0.3.0->spacy) (8.1.7)\n",
            "Requirement already satisfied: shellingham>=1.3.0 in /usr/local/lib/python3.10/dist-packages (from typer<1.0.0,>=0.3.0->spacy) (1.5.4)\n",
            "Requirement already satisfied: rich>=10.11.0 in /usr/local/lib/python3.10/dist-packages (from typer<1.0.0,>=0.3.0->spacy) (13.8.1)\n",
            "Requirement already satisfied: cloudpathlib<1.0.0,>=0.7.0 in /usr/local/lib/python3.10/dist-packages (from weasel<0.5.0,>=0.1.0->spacy) (0.19.0)\n",
            "Requirement already satisfied: smart-open<8.0.0,>=5.2.1 in /usr/local/lib/python3.10/dist-packages (from weasel<0.5.0,>=0.1.0->spacy) (7.0.4)\n",
            "Requirement already satisfied: MarkupSafe>=2.0 in /usr/local/lib/python3.10/dist-packages (from jinja2->spacy) (2.1.5)\n",
            "Requirement already satisfied: marisa-trie>=0.7.7 in /usr/local/lib/python3.10/dist-packages (from language-data>=1.2->langcodes<4.0.0,>=3.2.0->spacy) (1.2.0)\n",
            "Requirement already satisfied: markdown-it-py>=2.2.0 in /usr/local/lib/python3.10/dist-packages (from rich>=10.11.0->typer<1.0.0,>=0.3.0->spacy) (3.0.0)\n",
            "Requirement already satisfied: pygments<3.0.0,>=2.13.0 in /usr/local/lib/python3.10/dist-packages (from rich>=10.11.0->typer<1.0.0,>=0.3.0->spacy) (2.18.0)\n",
            "Requirement already satisfied: wrapt in /usr/local/lib/python3.10/dist-packages (from smart-open<8.0.0,>=5.2.1->weasel<0.5.0,>=0.1.0->spacy) (1.16.0)\n",
            "Requirement already satisfied: mdurl~=0.1 in /usr/local/lib/python3.10/dist-packages (from markdown-it-py>=2.2.0->rich>=10.11.0->typer<1.0.0,>=0.3.0->spacy) (0.1.2)\n"
          ]
        }
      ]
    },
    {
      "cell_type": "code",
      "source": [
        "import spacy"
      ],
      "metadata": {
        "id": "QISzPYEY_K0h"
      },
      "execution_count": 10,
      "outputs": []
    },
    {
      "cell_type": "code",
      "source": [
        "!python -m spacy download en_core_web_sm"
      ],
      "metadata": {
        "colab": {
          "base_uri": "https://localhost:8080/"
        },
        "collapsed": true,
        "id": "ycOT5zB0_B49",
        "outputId": "fe4add1e-77ee-419d-b9b7-75dbc0467c11"
      },
      "execution_count": 11,
      "outputs": [
        {
          "output_type": "stream",
          "name": "stdout",
          "text": [
            "Collecting en-core-web-sm==3.7.1\n",
            "  Downloading https://github.com/explosion/spacy-models/releases/download/en_core_web_sm-3.7.1/en_core_web_sm-3.7.1-py3-none-any.whl (12.8 MB)\n",
            "\u001b[2K     \u001b[90m━━━━━━━━━━━━━━━━━━━━━━━━━━━━━━━━━━━━━━━━\u001b[0m \u001b[32m12.8/12.8 MB\u001b[0m \u001b[31m82.1 MB/s\u001b[0m eta \u001b[36m0:00:00\u001b[0m\n",
            "\u001b[?25hRequirement already satisfied: spacy<3.8.0,>=3.7.2 in /usr/local/lib/python3.10/dist-packages (from en-core-web-sm==3.7.1) (3.7.6)\n",
            "Requirement already satisfied: spacy-legacy<3.1.0,>=3.0.11 in /usr/local/lib/python3.10/dist-packages (from spacy<3.8.0,>=3.7.2->en-core-web-sm==3.7.1) (3.0.12)\n",
            "Requirement already satisfied: spacy-loggers<2.0.0,>=1.0.0 in /usr/local/lib/python3.10/dist-packages (from spacy<3.8.0,>=3.7.2->en-core-web-sm==3.7.1) (1.0.5)\n",
            "Requirement already satisfied: murmurhash<1.1.0,>=0.28.0 in /usr/local/lib/python3.10/dist-packages (from spacy<3.8.0,>=3.7.2->en-core-web-sm==3.7.1) (1.0.10)\n",
            "Requirement already satisfied: cymem<2.1.0,>=2.0.2 in /usr/local/lib/python3.10/dist-packages (from spacy<3.8.0,>=3.7.2->en-core-web-sm==3.7.1) (2.0.8)\n",
            "Requirement already satisfied: preshed<3.1.0,>=3.0.2 in /usr/local/lib/python3.10/dist-packages (from spacy<3.8.0,>=3.7.2->en-core-web-sm==3.7.1) (3.0.9)\n",
            "Requirement already satisfied: thinc<8.3.0,>=8.2.2 in /usr/local/lib/python3.10/dist-packages (from spacy<3.8.0,>=3.7.2->en-core-web-sm==3.7.1) (8.2.5)\n",
            "Requirement already satisfied: wasabi<1.2.0,>=0.9.1 in /usr/local/lib/python3.10/dist-packages (from spacy<3.8.0,>=3.7.2->en-core-web-sm==3.7.1) (1.1.3)\n",
            "Requirement already satisfied: srsly<3.0.0,>=2.4.3 in /usr/local/lib/python3.10/dist-packages (from spacy<3.8.0,>=3.7.2->en-core-web-sm==3.7.1) (2.4.8)\n",
            "Requirement already satisfied: catalogue<2.1.0,>=2.0.6 in /usr/local/lib/python3.10/dist-packages (from spacy<3.8.0,>=3.7.2->en-core-web-sm==3.7.1) (2.0.10)\n",
            "Requirement already satisfied: weasel<0.5.0,>=0.1.0 in /usr/local/lib/python3.10/dist-packages (from spacy<3.8.0,>=3.7.2->en-core-web-sm==3.7.1) (0.4.1)\n",
            "Requirement already satisfied: typer<1.0.0,>=0.3.0 in /usr/local/lib/python3.10/dist-packages (from spacy<3.8.0,>=3.7.2->en-core-web-sm==3.7.1) (0.12.5)\n",
            "Requirement already satisfied: tqdm<5.0.0,>=4.38.0 in /usr/local/lib/python3.10/dist-packages (from spacy<3.8.0,>=3.7.2->en-core-web-sm==3.7.1) (4.66.5)\n",
            "Requirement already satisfied: requests<3.0.0,>=2.13.0 in /usr/local/lib/python3.10/dist-packages (from spacy<3.8.0,>=3.7.2->en-core-web-sm==3.7.1) (2.32.3)\n",
            "Requirement already satisfied: pydantic!=1.8,!=1.8.1,<3.0.0,>=1.7.4 in /usr/local/lib/python3.10/dist-packages (from spacy<3.8.0,>=3.7.2->en-core-web-sm==3.7.1) (2.9.2)\n",
            "Requirement already satisfied: jinja2 in /usr/local/lib/python3.10/dist-packages (from spacy<3.8.0,>=3.7.2->en-core-web-sm==3.7.1) (3.1.4)\n",
            "Requirement already satisfied: setuptools in /usr/local/lib/python3.10/dist-packages (from spacy<3.8.0,>=3.7.2->en-core-web-sm==3.7.1) (71.0.4)\n",
            "Requirement already satisfied: packaging>=20.0 in /usr/local/lib/python3.10/dist-packages (from spacy<3.8.0,>=3.7.2->en-core-web-sm==3.7.1) (24.1)\n",
            "Requirement already satisfied: langcodes<4.0.0,>=3.2.0 in /usr/local/lib/python3.10/dist-packages (from spacy<3.8.0,>=3.7.2->en-core-web-sm==3.7.1) (3.4.0)\n",
            "Requirement already satisfied: numpy>=1.19.0 in /usr/local/lib/python3.10/dist-packages (from spacy<3.8.0,>=3.7.2->en-core-web-sm==3.7.1) (1.26.4)\n",
            "Requirement already satisfied: language-data>=1.2 in /usr/local/lib/python3.10/dist-packages (from langcodes<4.0.0,>=3.2.0->spacy<3.8.0,>=3.7.2->en-core-web-sm==3.7.1) (1.2.0)\n",
            "Requirement already satisfied: annotated-types>=0.6.0 in /usr/local/lib/python3.10/dist-packages (from pydantic!=1.8,!=1.8.1,<3.0.0,>=1.7.4->spacy<3.8.0,>=3.7.2->en-core-web-sm==3.7.1) (0.7.0)\n",
            "Requirement already satisfied: pydantic-core==2.23.4 in /usr/local/lib/python3.10/dist-packages (from pydantic!=1.8,!=1.8.1,<3.0.0,>=1.7.4->spacy<3.8.0,>=3.7.2->en-core-web-sm==3.7.1) (2.23.4)\n",
            "Requirement already satisfied: typing-extensions>=4.6.1 in /usr/local/lib/python3.10/dist-packages (from pydantic!=1.8,!=1.8.1,<3.0.0,>=1.7.4->spacy<3.8.0,>=3.7.2->en-core-web-sm==3.7.1) (4.12.2)\n",
            "Requirement already satisfied: charset-normalizer<4,>=2 in /usr/local/lib/python3.10/dist-packages (from requests<3.0.0,>=2.13.0->spacy<3.8.0,>=3.7.2->en-core-web-sm==3.7.1) (3.3.2)\n",
            "Requirement already satisfied: idna<4,>=2.5 in /usr/local/lib/python3.10/dist-packages (from requests<3.0.0,>=2.13.0->spacy<3.8.0,>=3.7.2->en-core-web-sm==3.7.1) (3.10)\n",
            "Requirement already satisfied: urllib3<3,>=1.21.1 in /usr/local/lib/python3.10/dist-packages (from requests<3.0.0,>=2.13.0->spacy<3.8.0,>=3.7.2->en-core-web-sm==3.7.1) (2.2.3)\n",
            "Requirement already satisfied: certifi>=2017.4.17 in /usr/local/lib/python3.10/dist-packages (from requests<3.0.0,>=2.13.0->spacy<3.8.0,>=3.7.2->en-core-web-sm==3.7.1) (2024.8.30)\n",
            "Requirement already satisfied: blis<0.8.0,>=0.7.8 in /usr/local/lib/python3.10/dist-packages (from thinc<8.3.0,>=8.2.2->spacy<3.8.0,>=3.7.2->en-core-web-sm==3.7.1) (0.7.11)\n",
            "Requirement already satisfied: confection<1.0.0,>=0.0.1 in /usr/local/lib/python3.10/dist-packages (from thinc<8.3.0,>=8.2.2->spacy<3.8.0,>=3.7.2->en-core-web-sm==3.7.1) (0.1.5)\n",
            "Requirement already satisfied: click>=8.0.0 in /usr/local/lib/python3.10/dist-packages (from typer<1.0.0,>=0.3.0->spacy<3.8.0,>=3.7.2->en-core-web-sm==3.7.1) (8.1.7)\n",
            "Requirement already satisfied: shellingham>=1.3.0 in /usr/local/lib/python3.10/dist-packages (from typer<1.0.0,>=0.3.0->spacy<3.8.0,>=3.7.2->en-core-web-sm==3.7.1) (1.5.4)\n",
            "Requirement already satisfied: rich>=10.11.0 in /usr/local/lib/python3.10/dist-packages (from typer<1.0.0,>=0.3.0->spacy<3.8.0,>=3.7.2->en-core-web-sm==3.7.1) (13.8.1)\n",
            "Requirement already satisfied: cloudpathlib<1.0.0,>=0.7.0 in /usr/local/lib/python3.10/dist-packages (from weasel<0.5.0,>=0.1.0->spacy<3.8.0,>=3.7.2->en-core-web-sm==3.7.1) (0.19.0)\n",
            "Requirement already satisfied: smart-open<8.0.0,>=5.2.1 in /usr/local/lib/python3.10/dist-packages (from weasel<0.5.0,>=0.1.0->spacy<3.8.0,>=3.7.2->en-core-web-sm==3.7.1) (7.0.4)\n",
            "Requirement already satisfied: MarkupSafe>=2.0 in /usr/local/lib/python3.10/dist-packages (from jinja2->spacy<3.8.0,>=3.7.2->en-core-web-sm==3.7.1) (2.1.5)\n",
            "Requirement already satisfied: marisa-trie>=0.7.7 in /usr/local/lib/python3.10/dist-packages (from language-data>=1.2->langcodes<4.0.0,>=3.2.0->spacy<3.8.0,>=3.7.2->en-core-web-sm==3.7.1) (1.2.0)\n",
            "Requirement already satisfied: markdown-it-py>=2.2.0 in /usr/local/lib/python3.10/dist-packages (from rich>=10.11.0->typer<1.0.0,>=0.3.0->spacy<3.8.0,>=3.7.2->en-core-web-sm==3.7.1) (3.0.0)\n",
            "Requirement already satisfied: pygments<3.0.0,>=2.13.0 in /usr/local/lib/python3.10/dist-packages (from rich>=10.11.0->typer<1.0.0,>=0.3.0->spacy<3.8.0,>=3.7.2->en-core-web-sm==3.7.1) (2.18.0)\n",
            "Requirement already satisfied: wrapt in /usr/local/lib/python3.10/dist-packages (from smart-open<8.0.0,>=5.2.1->weasel<0.5.0,>=0.1.0->spacy<3.8.0,>=3.7.2->en-core-web-sm==3.7.1) (1.16.0)\n",
            "Requirement already satisfied: mdurl~=0.1 in /usr/local/lib/python3.10/dist-packages (from markdown-it-py>=2.2.0->rich>=10.11.0->typer<1.0.0,>=0.3.0->spacy<3.8.0,>=3.7.2->en-core-web-sm==3.7.1) (0.1.2)\n",
            "\u001b[38;5;2m✔ Download and installation successful\u001b[0m\n",
            "You can now load the package via spacy.load('en_core_web_sm')\n",
            "\u001b[38;5;3m⚠ Restart to reload dependencies\u001b[0m\n",
            "If you are in a Jupyter or Colab notebook, you may need to restart Python in\n",
            "order to load all the package's dependencies. You can do this by selecting the\n",
            "'Restart kernel' or 'Restart runtime' option.\n"
          ]
        }
      ]
    },
    {
      "cell_type": "code",
      "source": [
        "nlp = spacy.load(\"en_core_web_sm\")\n"
      ],
      "metadata": {
        "id": "PBLmSX1W_mWK"
      },
      "execution_count": 12,
      "outputs": []
    },
    {
      "cell_type": "code",
      "source": [
        "excluded_words = spacy.lang.en.stop_words.STOP_WORDS"
      ],
      "metadata": {
        "id": "g5-20aSz_PSb"
      },
      "execution_count": 13,
      "outputs": []
    },
    {
      "cell_type": "code",
      "source": [
        "print(excluded_words)"
      ],
      "metadata": {
        "colab": {
          "base_uri": "https://localhost:8080/"
        },
        "id": "zoQww6KJ-8wc",
        "outputId": "9a521c12-d6f2-4c89-9bd3-a51a8bb84d45"
      },
      "execution_count": 14,
      "outputs": [
        {
          "output_type": "stream",
          "name": "stdout",
          "text": [
            "{'just', 'these', 'give', 'n‘t', 'quite', 'to', 'during', 'fifteen', 'seeming', 'me', 'before', 'bottom', 'from', 'latterly', 'becoming', 'keep', 'throughout', 'in', 'same', 'sixty', 'nor', 'been', 'enough', 're', 'say', 'either', 'whenever', 'the', 'a', 'might', 'my', 'toward', 'across', 'does', 'forty', 'only', 'itself', 'twelve', 'under', 'onto', 'himself', 'any', 'hundred', 'may', 'here', 'once', 'doing', 'since', 'besides', 'two', 'take', 'various', 'part', \"'re\", 'no', 'around', 'done', 'again', 'own', 'her', 'empty', 'several', 'mostly', 'beside', 'were', 'also', 'though', 'could', 'every', 'n’t', 'meanwhile', 'below', 'as', 'along', 'by', 'even', 'most', 'anywhere', 'front', 'thereupon', 'really', 'few', 'who', 'against', 'four', 'for', 'he', 'upon', 'until', 'beforehand', 'always', 'am', 'whereby', 'nevertheless', 'out', 'go', 'why', 'five', 'hers', \"'s\", 'make', 'she', 'you', 'both', \"'ve\", 'together', 'somehow', 'herein', 'through', 'above', 'whom', 'become', 'much', 'using', 'an', 'six', 'serious', 'should', 'please', 'be', 'often', 'hereafter', 'ours', 'thence', 'it', 'that', 'therefore', 'then', 'mine', 'still', 'thru', 'nobody', 'whither', 'move', 'eight', 'themselves', 'anyhow', 'such', 'everyone', 'yourself', 'whereupon', '’ll', 'elsewhere', 'used', 'its', 'about', 'if', 'do', 'thereafter', 'latter', 'his', 'off', 'hence', 'due', 'us', 'within', 'none', 'well', 'can', 'many', 'last', 'this', '’s', 'beyond', 'get', 'ten', 'with', 'will', '‘s', 'else', 'other', \"'ll\", 'there', 'on', 'cannot', 'already', 'them', 'three', 'herself', 'whereas', 'has', 'whereafter', 'behind', 'show', 'and', 'ourselves', 'yourselves', 'thereby', 'per', 'formerly', 'which', 'hereby', 'ca', \"n't\", 'amongst', 'less', 'had', 'rather', 'seem', 'your', 'anyone', 'wherein', 'among', 'first', 'between', 'what', 'while', 'put', 'seemed', 'via', 'nine', 'something', '’d', 'how', 'at', 'perhaps', 'because', 'down', 'whatever', 'some', 'twenty', 'would', 'they', 'noone', 'fifty', 'than', 'neither', 'hereupon', 'up', 'except', 'when', '‘re', 'indeed', 'did', 'all', 'each', 'another', 'anyway', 'nothing', 'eleven', \"'d\", 'yet', 'too', 'not', 'over', 'whose', 'former', 'someone', 'where', 'although', 'next', 'sometime', 'whole', 'whence', 'after', 'somewhere', 'never', 'top', 'whether', 'side', 'amount', 'nowhere', 'otherwise', 'third', 'their', '’m', '‘ve', 'have', 'everything', 'therein', 'him', 'is', '‘d', '‘ll', 'ever', 'namely', 'now', 'was', 'myself', 'back', 'moreover', 'anything', 'alone', 'so', 'those', 'being', 'we', 'afterwards', 'yours', 'wherever', 'further', 'unless', 'everywhere', 'regarding', '’re', 'least', 'whoever', \"'m\", 'made', 'thus', '’ve', 'almost', 'one', 'without', 'very', 'or', 'but', 'seems', '‘m', 'however', 'call', 'others', 'towards', 'becomes', 'became', 'are', 'sometimes', 'more', 'must', 'name', 'full', 'see', 'of', 'our', 'i', 'into'}\n"
          ]
        }
      ]
    },
    {
      "cell_type": "code",
      "source": [
        "schema = StructType([ \\\n",
        "    StructField(\"Name\",StringType(),True), \\\n",
        "    StructField(\"Rating\",IntegerType(),True), \\\n",
        "    StructField(\"Review\",StringType(),True), \\\n",
        "    StructField(\"Date\",StringType(),True), \\\n",
        "    StructField(\"Useful\",IntegerType(),True), \\\n",
        "    StructField(\"Answered\",StringType(),True)\n",
        "    ])"
      ],
      "metadata": {
        "id": "qhB3MKA_n1bM"
      },
      "execution_count": 78,
      "outputs": []
    },
    {
      "cell_type": "code",
      "source": [
        "main_df = spark.read.csv('/content/reviews.txt', schema=schema, sep=']')\n"
      ],
      "metadata": {
        "id": "qr5wZvOrn3q_"
      },
      "execution_count": 79,
      "outputs": []
    },
    {
      "cell_type": "code",
      "source": [
        "main_df = main_df.withColumn(\"Useful\",\n",
        "                             when(col(\"Useful\").isNull(), 0)\n",
        "                             .otherwise(col(\"Useful\")))"
      ],
      "metadata": {
        "id": "c6KbvN2Ybj-T"
      },
      "execution_count": 80,
      "outputs": []
    },
    {
      "cell_type": "code",
      "source": [
        "main_df.show(40)"
      ],
      "metadata": {
        "colab": {
          "base_uri": "https://localhost:8080/"
        },
        "id": "zwGGKQ83rcN4",
        "outputId": "846e6f4e-fc6f-486b-c1fb-3f5d250851de"
      },
      "execution_count": 81,
      "outputs": [
        {
          "output_type": "stream",
          "name": "stdout",
          "text": [
            "+--------------------+------+--------------------+------------------+------+--------+\n",
            "|                Name|Rating|              Review|              Date|Useful|Answered|\n",
            "+--------------------+------+--------------------+------------------+------+--------+\n",
            "|        Ayushi Hazra|     5|Very easy to use ...|September 28, 2024|    14|     Yes|\n",
            "|   Shane Robert Tate|     1|The UI is not use...|September 27, 2024|     3|     Yes|\n",
            "|      Kunga Wangchuk|     5|Very easy to use ...|    April 27, 2024|     0|     Yes|\n",
            "|Referral Code - S...|     5|Wonderful app!! I...|September 28, 2024|     4|     Yes|\n",
            "|Referral Code - D...|     5|This Bajaj Finser...|September 28, 2024|     0|     Yes|\n",
            "|         Omkar Lodhi|     5|Recently started ...|September 27, 2024|    27|     Yes|\n",
            "|         MANAV YADAV|     1|This app is a com...|September 28, 2024|     0|     Yes|\n",
            "|       Rahul Waghela|     1|If I could give 0...| September 5, 2024|   165|     Yes|\n",
            "|          Abdul Babu|     2|Previously it was...|September 27, 2024|     4|     Yes|\n",
            "|         Satya brata|     1|I hate this app, ...|September 28, 2024|     1|     Yes|\n",
            "|     Hacky Pattinson|     5|This loan app is ...|September 28, 2024|     0|     Yes|\n",
            "|          Vishal Raj|     1|Such a pathatic u...|September 26, 2024|     8|     Yes|\n",
            "|            Heyram K|     1|I have facing wor...|September 27, 2024|     2|     Yes|\n",
            "|        Neeraj Singh|     1|Worst app! They h...|September 25, 2024|     9|     Yes|\n",
            "|             Nagaraj|     1|If you don't know...|September 13, 2024|    88|     Yes|\n",
            "|Naqeeb Nasrulla Khan|     1|The worst app eve...| September 7, 2024|    77|     Yes|\n",
            "|         Amir Mondal|     4|Stuck at MPin cre...|September 24, 2024|    15|     Yes|\n",
            "|Adabala. siva ven...|     1|Worst App Ever! A...| September 7, 2024|    65|     Yes|\n",
            "|        Animesh Khan|     1|Very bad customer...| September 5, 2024|    70|     Yes|\n",
            "|        Divya Shakya|     5|It provides seaml...|September 28, 2024|     0|     Yes|\n",
            "|  Md Madina Sha Immi|     1|Not recommended s...| September 5, 2024|    63|     Yes|\n",
            "|       Farhana Patel|     1|This app is looti...|September 22, 2024|    21|     Yes|\n",
            "|      Ramesh Sanghar|     4|Hello preeti, i t...|September 25, 2024|    32|     Yes|\n",
            "|        Neeraj Lamba|     1|These guys just s...|September 17, 2024|    23|     Yes|\n",
            "|        Changak Aran|     4|The app doesn't w...|September 26, 2024|     2|     Yes|\n",
            "|             Krishna|     5|The Bajaj prime w...|September 28, 2024|     0|     Yes|\n",
            "|       Abhinav Singh|     1|App is good but s...|September 21, 2024|     8|     Yes|\n",
            "|    ARJUN BISWAKARMA|     1|Very bad app, wor...|September 28, 2024|     0|     Yes|\n",
            "|           Sivabalan|     1|Totally waste app...| September 5, 2024|    31|     Yes|\n",
            "|anuradha swaminathan|     1|I is a useless ap...|September 28, 2024|     1|     Yes|\n",
            "| MR᭄Navneet ब्राह्मण|     1|They show that th...|September 26, 2024|     1|     Yes|\n",
            "|       Sameer Pandey|     1|I can't login bec...|September 28, 2024|     0|     Yes|\n",
            "|Shukracharay Meshram|     1|Worst application...| September 6, 2024|    14|     Yes|\n",
            "|         Sweety Paul|     5|Bajaj Finserv is ...|September 28, 2024|     1|     Yes|\n",
            "|              Gudiya|     1|Would give it a 0...|September 11, 2024|    12|     Yes|\n",
            "|          Gourab Pal|     5|I've been using t...|September 25, 2024|     3|     Yes|\n",
            "|           Indra Jit|     5|The app is user f...|September 25, 2024|     0|     Yes|\n",
            "|          Payel Saha|     5|The Bajaj Finserv...|September 27, 2024|     2|     Yes|\n",
            "|  Ramkrushna Mohanta|     1|After the last ne...|September 27, 2024|     0|     Yes|\n",
            "|      Avanish Gautam|     5|I've had an excel...|September 28, 2024|     0|     Yes|\n",
            "+--------------------+------+--------------------+------------------+------+--------+\n",
            "only showing top 40 rows\n",
            "\n"
          ]
        }
      ]
    },
    {
      "cell_type": "code",
      "source": [
        "main_df.createOrReplaceTempView(\"bajaj\")"
      ],
      "metadata": {
        "id": "bbFP76GtsTv4"
      },
      "execution_count": 82,
      "outputs": []
    },
    {
      "cell_type": "code",
      "source": [
        "cleaned = spark.sql(\"SELECT Name,Review,Useful FROM bajaj;\")"
      ],
      "metadata": {
        "id": "pSstHmvOueaI"
      },
      "execution_count": 83,
      "outputs": []
    },
    {
      "cell_type": "code",
      "source": [
        "cleaned.show(truncate=False)"
      ],
      "metadata": {
        "colab": {
          "base_uri": "https://localhost:8080/"
        },
        "id": "3VZmrcWOxsAK",
        "outputId": "e75edf03-a40b-45cf-f23e-06ceb77548ca"
      },
      "execution_count": 84,
      "outputs": [
        {
          "output_type": "stream",
          "name": "stdout",
          "text": [
            "+-------------------------+--------------------------------------------------------------------------------------------------------------------------------------------------------------------------------------------------------------------------------------------------------------------------------------------------------------------------------------------------------------------------------------------------------------------------------------------------------------------------------------------------------------------+------+\n",
            "|Name                     |Review                                                                                                                                                                                                                                                                                                                                                                                                                                                                                                              |Useful|\n",
            "+-------------------------+--------------------------------------------------------------------------------------------------------------------------------------------------------------------------------------------------------------------------------------------------------------------------------------------------------------------------------------------------------------------------------------------------------------------------------------------------------------------------------------------------------------------+------+\n",
            "|Ayushi Hazra             |Very easy to use and is better than most of the UPI apps out there. User friendly interface and easy to understand. This app is a game-changer! It offers a seamless experience for managing finances, from easy loan applications to hassle-free UPI transactions and flexible FD options. The interface is user-friendly, making it easy to navigate even for beginners. Plus, the app's security features ensure peace of mind. Overall, it's a must-have for anyone looking for convenient financial            |14    |\n",
            "|Shane Robert Tate        |The UI is not user friendly, the app doesn't work properly sometimes, it app hangs a lot and now I'm stuck after it got updated because now it's telling me to put MPIN and then create a security question and the drop down box doesn't work to select what question. Very bad App design please give your app development to professionals don't hire amateurs to save money.                                                                                                                                    |3     |\n",
            "|Kunga Wangchuk           |Very easy to use and is better than most of the UPI apps out there. User friendly interface and easy to understand . This app is a game-changer! It offers a seamless experience for managing finances, from easy loan applications to hassle-free UPI transactions and flexible FD options. The interface is user-friendly, making it easy to navigate even for beginners. Plus, the app's security features ensure peace of mind. Overall, it's a must-have for anyone looking for convenient financial solutions |0     |\n",
            "|Referral Code - SY5BAW   |Wonderful app!! I really appreciate app. I found the loan app incredibly helpful. As a scalper, this app is a boon, allowing me to analyze market conditions quickly and execute trades with just a few clicks. One of the standout features for me is the ability to monitor Open Interest (OI) directly on the graph without having to navigate away. Additionally, setting up targets and SL is super quick and easy, making my trading experience seamless and efficient. Highly recommend it. Thanks for BFL.♥️|4     |\n",
            "|Referral Code - DVEAR    |This Bajaj Finserv app is a game-changer! Its user-friendly interface simplifies upi, fd while the vast fund selection caters to diverse needs. The robust research tools provide valuable insights, aiding informed decisions. Transactions are hassle-free, and the app keeps me updated with regular notifications. The customer support team is exceptional, always ready to assist. Overall, it has transformed my financial planning, making it accessible and stress-free. I highly recommended this app.    |0     |\n",
            "|Omkar Lodhi              |Recently started using this finance app and it's been a game-changer for me. It's packed with features like BHIM UPI, fixed deposits, personal loans, and bill payments - all in one place. The app has made paying bills and transferring money a breeze. I've even checked my credit score and applied for a loan, all without leaving the app                                                                                                                                                                    |27    |\n",
            "|MANAV YADAV              |This app is a complete rip-off! Their customer service is absolutely terrible. I got an EMI card with annual fees and paid every EMI on time, but they still blocked my card without any explanation. There's no way to reach customer support to resolve the issue. I strongly advise against using this app and recommend exploring other options. Bajaj Finserv is a scam!                                                                                                                                       |0     |\n",
            "|Rahul Waghela            |If I could give 0 stars, I would. They keep deducting charges for insufficient balance, even when I maintain the required balance in my account. It feels like they’re only focused on taking money from people. The app is also extremely slow and frustrating to use. There’s no option to pay missed EMIs, which makes things worse. If they can deduct money so easily, they should at least enable a feature for missed payments. Overall, this app is a total disappointment. I wouldn't recommend it to any  |165   |\n",
            "|Abdul Babu               |Previously it was good app, it was best app I would say but as off now they have blocked my card itself unnecessarily I am very frustrated now. I have visited Bajaj finance store multiple times, they will inform stating that account will get activated soon kindly take action against this or else block my account permanently. Thank you. It was my experience about this app, no one is taking action against this.                                                                                        |4     |\n",
            "|Satya brata              |I hate this app, I have joined by giving Rs 580 but everytime I tried to make transaction it fails because I have not completed my kyc but I have given all documents, photos and also linked my pan number and if I haven't completed there is no place to go and complete it.... customer care is worst they are only telling you have to purchase through offline only... it's the worst financial app ever and it's a fraud.                                                                                    |1     |\n",
            "|Hacky Pattinson          |This loan app is a lifesaver! I needed some extra cash fast, and I was approved for a loan in minutes. The process was quick and easy, and I had the money in my account the same day. The interest rates are reasonable and the repayment terms are flexible. I highly recommend this loan app to anyone who needs a little extra financial help.                                                                                                                                                                  |0     |\n",
            "|Vishal Raj               |Such a pathatic user experience app wise and financial service wise too, unable to login the app every time asking always asking to set security question but never give the option to set it on other side I have an emi card but I cant order a single product on it payment declines every time and now a days I am unable to find that card....... very disappointing app                                                                                                                                       |8     |\n",
            "|Heyram K                 |I have facing worst user experience in app and web in all platforms i can't use both in same time app requires all permission most of all are unwanted. Even I can't access another account in my device. please make this features multi device support                                                                                                                                                                                                                                                            |2     |\n",
            "|Neeraj Singh             |Worst app! They have charged 699 rupees and at the last step saying unable to proceed the process for EMI CARD. Customer support? Practically non-existent. No matter how many times you report issues, nothing ever gets fixed. It’s beyond frustrating, especially considering this is a financial services app where reliability should be a priority. Save yourself the headache and avoid this app until they make serious improvements! BKL                                                                   |9     |\n",
            "|Nagaraj                  |If you don't know how to maintain a app, then why to bother create one? The app is so slow and not a single link works in the app, not the profile details, not the relations status, not the loan emi status, nothing.... Initially I thought it might be my network issue, but later I realised it's the app issue as other apps which uses internet works very well fine. So, kindly fix the issue ASAP.                                                                                                         |88    |\n",
            "|Naqeeb Nasrulla Khan     |The worst app ever, with extremely high charges and interest rates. I previously paid the EMI for the month of September 2024 a day before the due date, yet they are charging Rs. 2000. And I'm trying to connect with customer service to highlight the issue, but it's not connecting.                                                                                                                                                                                                                           |77    |\n",
            "|Amir Mondal              |Stuck at MPin creation after new update. Does not allow me to choose the question from the drop-down list. Hence I cannot log into the app anymore. Edit : Was able to log in after several attempts. Glad to be back.                                                                                                                                                                                                                                                                                              |15    |\n",
            "|Adabala. siva venkata sai|Worst App Ever! Avoid at All Costs Review: I've had an absolutely terrible experience with the Bajaj Finance app. The app is slow, buggy, and incredibly frustrating to use. I applied for a loan and a credit card, but there's been no response whatsoever. Even after my friend followed all the terms and conditions, the promised referral amount was never added to his account. I strongly advise anyone considering Bajaj Finance to think twice. This app is a complete waste of time and effort. There    |65    |\n",
            "|Animesh Khan             |Very bad customer service. There is no way to clarify your doubts , there is no customer support no , virtual assistant is of no use . I paid the loan amount in advance but still my emi is bounced...no one to clarify my problem from customer care. I don't know where the paid amount gone. It has not been settled in my account. I am not able to know what the hell is happening. Due to bounced emi my card is blocked.                                                                                    |70    |\n",
            "|Divya Shakya             |It provides seamless transactions. Best app for easy trading and investing and it is easy to use also . You can also pay your online bills without any problem. Highly recommend                                                                                                                                                                                                                                                                                                                                    |0     |\n",
            "+-------------------------+--------------------------------------------------------------------------------------------------------------------------------------------------------------------------------------------------------------------------------------------------------------------------------------------------------------------------------------------------------------------------------------------------------------------------------------------------------------------------------------------------------------------+------+\n",
            "only showing top 20 rows\n",
            "\n"
          ]
        }
      ]
    },
    {
      "cell_type": "code",
      "source": [
        "words = main_df.select(explode(split(col(\"Review\"),\" \")).alias(\"word\"))"
      ],
      "metadata": {
        "id": "xh_SmcpxwDVX"
      },
      "execution_count": 85,
      "outputs": []
    },
    {
      "cell_type": "code",
      "source": [
        "words_finder = words.withColumn(\"words_lower\",lower(col(\"word\")))"
      ],
      "metadata": {
        "id": "uxSaYiWWhkXS"
      },
      "execution_count": 86,
      "outputs": []
    },
    {
      "cell_type": "code",
      "source": [
        "words_finder = words_finder.groupBy(\"words_lower\").agg(count(\"words_lower\").alias(\"count\")).orderBy(desc(\"count\"))"
      ],
      "metadata": {
        "id": "cN3Brfgiur09"
      },
      "execution_count": 87,
      "outputs": []
    },
    {
      "cell_type": "code",
      "source": [
        "filtered_words = words_finder.filter(~col(\"words_lower\").isin(excluded_words))"
      ],
      "metadata": {
        "id": "gRzMQ9Gwu-J8"
      },
      "execution_count": 88,
      "outputs": []
    },
    {
      "cell_type": "code",
      "source": [
        "additional_words = [\"but\", \"can't\", \"iam\", \"i'm\", \"very\", \"this\", \"it\", \"it's\", \"like\", \"time\",\n",
        "                    \"i\", \"a\", \"of\", \"in\", \"for\", \"that\", \"have\", \"or\", \"be\", \"me\", \"if\", \"as\",\n",
        "                    'so', \"any\", \"even\", \"your\", 'get', \"am\", \"at\", \"do\", \"has\",\"the\",\"to\",\"and\",\"my\",\"is\",\"not\",\"with\",\"from\",\"no\",\"on\",\"when\",\"don't\",\"will\",\"been\",\"an\",\"only\",\"then\",\"also\",\"by\",\"you\",\"are\",\"they\",\"are\",\"was\",\"can\",\"all\",\"use\",\"doesn't\",\"had\",\"than\",\"up\",\".\",\"we\",\"never\",\"many\",\"every\",\"what\",\"why\",\"while\",\"there\",\"now\",\"just\",\"make\",\"its\",\"try\",\"their\",\"used\",\"after\",\"still\"]\n"
      ],
      "metadata": {
        "id": "k0jMddkYhGSQ"
      },
      "execution_count": 89,
      "outputs": []
    },
    {
      "cell_type": "code",
      "source": [
        "filtered_words = words_finder.filter(~col(\"words_lower\").isin(additional_words))"
      ],
      "metadata": {
        "id": "kIUUtSlnhKh8"
      },
      "execution_count": 90,
      "outputs": []
    },
    {
      "cell_type": "code",
      "source": [
        "filtered_words.show(60)"
      ],
      "metadata": {
        "colab": {
          "base_uri": "https://localhost:8080/"
        },
        "id": "wVvICMLGlu0d",
        "outputId": "6a761fa8-6a41-41c1-b874-2767d51e17bd"
      },
      "execution_count": 91,
      "outputs": [
        {
          "output_type": "stream",
          "name": "stdout",
          "text": [
            "+-------------+-----+\n",
            "|  words_lower|count|\n",
            "+-------------+-----+\n",
            "|          app| 1044|\n",
            "|        bajaj|  365|\n",
            "|         easy|  352|\n",
            "|         loan|  351|\n",
            "|         card|  296|\n",
            "|          emi|  280|\n",
            "|     customer|  227|\n",
            "|   experience|  194|\n",
            "|    interface|  178|\n",
            "|         app.|  165|\n",
            "|         user|  160|\n",
            "|    financial|  159|\n",
            "|         good|  158|\n",
            "|        worst|  155|\n",
            "|  application|  154|\n",
            "|          one|  151|\n",
            "|      finserv|  149|\n",
            "|        using|  143|\n",
            "|      service|  140|\n",
            "|          upi|  134|\n",
            "|      payment|  120|\n",
            "|        loans|  119|\n",
            "|       please|  103|\n",
            "|      finance|   98|\n",
            "|        money|   97|\n",
            "|       really|   96|\n",
            "|     features|   96|\n",
            "|     managing|   95|\n",
            "|        great|   94|\n",
            "|      process|   92|\n",
            "|       offers|   90|\n",
            "|      without|   89|\n",
            "|       credit|   86|\n",
            "|     friendly|   85|\n",
            "|          bad|   84|\n",
            "|      support|   83|\n",
            "|       smooth|   82|\n",
            "|          pay|   82|\n",
            "|     payments|   80|\n",
            "|         much|   80|\n",
            "|      showing|   78|\n",
            "|       update|   78|\n",
            "|        which|   77|\n",
            "|       option|   75|\n",
            "|         best|   75|\n",
            "|         care|   73|\n",
            "|         more|   73|\n",
            "|     personal|   70|\n",
            "|        quick|   69|\n",
            "|         paid|   68|\n",
            "|         most|   65|\n",
            "|user-friendly|   64|\n",
            "|         want|   64|\n",
            "|     services|   64|\n",
            "|         give|   64|\n",
            "|        other|   63|\n",
            "|       amount|   63|\n",
            "|      through|   63|\n",
            "|          out|   62|\n",
            "|    recommend|   62|\n",
            "+-------------+-----+\n",
            "only showing top 60 rows\n",
            "\n"
          ]
        }
      ]
    },
    {
      "cell_type": "code",
      "source": [
        "mainde = spark.sql(\"SELECT * FROM bajaj WHERE Rating < 4 AND (Review LIKE '%worst%');\")"
      ],
      "metadata": {
        "id": "Vc7_WDfIVSkN"
      },
      "execution_count": 92,
      "outputs": []
    },
    {
      "cell_type": "code",
      "source": [
        "mainde.select(count(\"Review\")).show()"
      ],
      "metadata": {
        "colab": {
          "base_uri": "https://localhost:8080/"
        },
        "id": "IOJ9WAsQYlLR",
        "outputId": "0d4e9204-acef-44f0-bb6d-3caa34ab2388"
      },
      "execution_count": 93,
      "outputs": [
        {
          "output_type": "stream",
          "name": "stdout",
          "text": [
            "+-------------+\n",
            "|count(Review)|\n",
            "+-------------+\n",
            "|           79|\n",
            "+-------------+\n",
            "\n"
          ]
        }
      ]
    },
    {
      "cell_type": "markdown",
      "source": [
        "### END\n",
        "\n"
      ],
      "metadata": {
        "id": "y4GaKnN0e-S7"
      }
    },
    {
      "cell_type": "code",
      "source": [
        "from transformers import pipeline"
      ],
      "metadata": {
        "id": "qFF4IBclChaI"
      },
      "execution_count": null,
      "outputs": []
    },
    {
      "cell_type": "code",
      "source": [
        "pipe = pipeline(\"text-classification\", model=\"siebert/sentiment-roberta-large-english\")"
      ],
      "metadata": {
        "id": "71MFcXTqOKWC"
      },
      "execution_count": null,
      "outputs": []
    },
    {
      "cell_type": "code",
      "source": [
        "from transformers import AutoTokenizer, AutoModelForSequenceClassification\n"
      ],
      "metadata": {
        "id": "HgsNe__fQdak"
      },
      "execution_count": null,
      "outputs": []
    },
    {
      "cell_type": "code",
      "source": [
        "tokenizer = AutoTokenizer.from_pretrained(\"siebert/sentiment-roberta-large-english\")"
      ],
      "metadata": {
        "id": "a8r42V_-QFcv"
      },
      "execution_count": null,
      "outputs": []
    },
    {
      "cell_type": "code",
      "source": [
        "model = AutoModelForSequenceClassification.from_pretrained(\"siebert/sentiment-roberta-large-english\")"
      ],
      "metadata": {
        "id": "yo8tsd7xQePu"
      },
      "execution_count": null,
      "outputs": []
    },
    {
      "cell_type": "code",
      "source": [
        "inputs = tokenizer(\"Hello, you are waste\", return_tensors=\"pt\")\n",
        "outputs = model(**inputs)\n",
        "\n",
        "prediction_logits = outputs.logits"
      ],
      "metadata": {
        "id": "loRNnt8pQhQm"
      },
      "execution_count": null,
      "outputs": []
    },
    {
      "cell_type": "code",
      "source": [
        "print(outputs)"
      ],
      "metadata": {
        "colab": {
          "base_uri": "https://localhost:8080/"
        },
        "id": "VLZoyaT8Q0ku",
        "outputId": "4d4979f6-8ac7-424d-da11-9e96bbca9316"
      },
      "execution_count": null,
      "outputs": [
        {
          "output_type": "stream",
          "name": "stdout",
          "text": [
            "SequenceClassifierOutput(loss=None, logits=tensor([[-3.2294,  2.4462]], grad_fn=<AddmmBackward0>), hidden_states=None, attentions=None)\n"
          ]
        }
      ]
    },
    {
      "cell_type": "code",
      "source": [],
      "metadata": {
        "id": "aoP5CmXaSUsa"
      },
      "execution_count": null,
      "outputs": []
    }
  ]
}