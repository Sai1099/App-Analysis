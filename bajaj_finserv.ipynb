{
  "nbformat": 4,
  "nbformat_minor": 0,
  "metadata": {
    "colab": {
      "provenance": [],
      "authorship_tag": "ABX9TyO4fVQGDNpUFwTv187pWykl",
      "include_colab_link": true
    },
    "kernelspec": {
      "name": "python3",
      "display_name": "Python 3"
    },
    "language_info": {
      "name": "python"
    }
  },
  "cells": [
    {
      "cell_type": "markdown",
      "metadata": {
        "id": "view-in-github",
        "colab_type": "text"
      },
      "source": [
        "<a href=\"https://colab.research.google.com/github/Sai1099/App-Analysis/blob/main/bajaj_finserv.ipynb\" target=\"_parent\"><img src=\"https://colab.research.google.com/assets/colab-badge.svg\" alt=\"Open In Colab\"/></a>"
      ]
    },
    {
      "cell_type": "code",
      "execution_count": 2,
      "metadata": {
        "colab": {
          "base_uri": "https://localhost:8080/"
        },
        "id": "XsRKy-SeJ_Vc",
        "outputId": "6dc88bbb-ac35-4ebb-a8f9-2b9e7140f4be"
      },
      "outputs": [
        {
          "output_type": "stream",
          "name": "stdout",
          "text": [
            "Collecting findspark\n",
            "  Downloading findspark-2.0.1-py2.py3-none-any.whl.metadata (352 bytes)\n",
            "Downloading findspark-2.0.1-py2.py3-none-any.whl (4.4 kB)\n",
            "Installing collected packages: findspark\n",
            "Successfully installed findspark-2.0.1\n"
          ]
        }
      ],
      "source": [
        "!pip install findspark"
      ]
    },
    {
      "cell_type": "code",
      "source": [
        "!pip install pyspark"
      ],
      "metadata": {
        "colab": {
          "base_uri": "https://localhost:8080/"
        },
        "id": "d73o6RI1KiLb",
        "outputId": "c8ee4e88-eb58-4217-c365-5fa9f7aff3ba"
      },
      "execution_count": 3,
      "outputs": [
        {
          "output_type": "stream",
          "name": "stdout",
          "text": [
            "Collecting pyspark\n",
            "  Downloading pyspark-3.5.3.tar.gz (317.3 MB)\n",
            "\u001b[2K     \u001b[90m━━━━━━━━━━━━━━━━━━━━━━━━━━━━━━━━━━━━━━━━\u001b[0m \u001b[32m317.3/317.3 MB\u001b[0m \u001b[31m4.3 MB/s\u001b[0m eta \u001b[36m0:00:00\u001b[0m\n",
            "\u001b[?25h  Preparing metadata (setup.py) ... \u001b[?25l\u001b[?25hdone\n",
            "Requirement already satisfied: py4j==0.10.9.7 in /usr/local/lib/python3.10/dist-packages (from pyspark) (0.10.9.7)\n",
            "Building wheels for collected packages: pyspark\n",
            "  Building wheel for pyspark (setup.py) ... \u001b[?25l\u001b[?25hdone\n",
            "  Created wheel for pyspark: filename=pyspark-3.5.3-py2.py3-none-any.whl size=317840625 sha256=32cdcbacd25541f6750f4a654ed62dabe6ead9c7c3a2bb330d93b7f3c9fab611\n",
            "  Stored in directory: /root/.cache/pip/wheels/1b/3a/92/28b93e2fbfdbb07509ca4d6f50c5e407f48dce4ddbda69a4ab\n",
            "Successfully built pyspark\n",
            "Installing collected packages: pyspark\n",
            "Successfully installed pyspark-3.5.3\n"
          ]
        }
      ]
    },
    {
      "cell_type": "code",
      "source": [
        "import pyspark"
      ],
      "metadata": {
        "id": "JmTw3F6QKo94"
      },
      "execution_count": 4,
      "outputs": []
    },
    {
      "cell_type": "code",
      "source": [
        "from pyspark.sql import SparkSession"
      ],
      "metadata": {
        "id": "2DUhr_gKLLYE"
      },
      "execution_count": 5,
      "outputs": []
    },
    {
      "cell_type": "code",
      "source": [
        "from pyspark.sql.types import StructField,StructType,IntegerType,StringType"
      ],
      "metadata": {
        "id": "WOvblwwDlDw9"
      },
      "execution_count": 6,
      "outputs": []
    },
    {
      "cell_type": "code",
      "source": [
        "from pyspark.sql.functions import *"
      ],
      "metadata": {
        "id": "0LXcYY-ZnM8f"
      },
      "execution_count": 7,
      "outputs": []
    },
    {
      "cell_type": "code",
      "source": [
        "spark = SparkSession.builder.appName(\"Bajaj-finserv\").getOrCreate()"
      ],
      "metadata": {
        "id": "BPXhMGPenT2v"
      },
      "execution_count": 8,
      "outputs": []
    },
    {
      "cell_type": "code",
      "source": [
        "!pip install spacy"
      ],
      "metadata": {
        "colab": {
          "base_uri": "https://localhost:8080/"
        },
        "id": "EdqizdA9nii9",
        "outputId": "80f891c8-5546-4e76-ab04-b5a809db5066"
      },
      "execution_count": 9,
      "outputs": [
        {
          "output_type": "stream",
          "name": "stdout",
          "text": [
            "Requirement already satisfied: spacy in /usr/local/lib/python3.10/dist-packages (3.7.6)\n",
            "Requirement already satisfied: spacy-legacy<3.1.0,>=3.0.11 in /usr/local/lib/python3.10/dist-packages (from spacy) (3.0.12)\n",
            "Requirement already satisfied: spacy-loggers<2.0.0,>=1.0.0 in /usr/local/lib/python3.10/dist-packages (from spacy) (1.0.5)\n",
            "Requirement already satisfied: murmurhash<1.1.0,>=0.28.0 in /usr/local/lib/python3.10/dist-packages (from spacy) (1.0.10)\n",
            "Requirement already satisfied: cymem<2.1.0,>=2.0.2 in /usr/local/lib/python3.10/dist-packages (from spacy) (2.0.8)\n",
            "Requirement already satisfied: preshed<3.1.0,>=3.0.2 in /usr/local/lib/python3.10/dist-packages (from spacy) (3.0.9)\n",
            "Requirement already satisfied: thinc<8.3.0,>=8.2.2 in /usr/local/lib/python3.10/dist-packages (from spacy) (8.2.5)\n",
            "Requirement already satisfied: wasabi<1.2.0,>=0.9.1 in /usr/local/lib/python3.10/dist-packages (from spacy) (1.1.3)\n",
            "Requirement already satisfied: srsly<3.0.0,>=2.4.3 in /usr/local/lib/python3.10/dist-packages (from spacy) (2.4.8)\n",
            "Requirement already satisfied: catalogue<2.1.0,>=2.0.6 in /usr/local/lib/python3.10/dist-packages (from spacy) (2.0.10)\n",
            "Requirement already satisfied: weasel<0.5.0,>=0.1.0 in /usr/local/lib/python3.10/dist-packages (from spacy) (0.4.1)\n",
            "Requirement already satisfied: typer<1.0.0,>=0.3.0 in /usr/local/lib/python3.10/dist-packages (from spacy) (0.12.5)\n",
            "Requirement already satisfied: tqdm<5.0.0,>=4.38.0 in /usr/local/lib/python3.10/dist-packages (from spacy) (4.66.5)\n",
            "Requirement already satisfied: requests<3.0.0,>=2.13.0 in /usr/local/lib/python3.10/dist-packages (from spacy) (2.32.3)\n",
            "Requirement already satisfied: pydantic!=1.8,!=1.8.1,<3.0.0,>=1.7.4 in /usr/local/lib/python3.10/dist-packages (from spacy) (2.9.2)\n",
            "Requirement already satisfied: jinja2 in /usr/local/lib/python3.10/dist-packages (from spacy) (3.1.4)\n",
            "Requirement already satisfied: setuptools in /usr/local/lib/python3.10/dist-packages (from spacy) (71.0.4)\n",
            "Requirement already satisfied: packaging>=20.0 in /usr/local/lib/python3.10/dist-packages (from spacy) (24.1)\n",
            "Requirement already satisfied: langcodes<4.0.0,>=3.2.0 in /usr/local/lib/python3.10/dist-packages (from spacy) (3.4.0)\n",
            "Requirement already satisfied: numpy>=1.19.0 in /usr/local/lib/python3.10/dist-packages (from spacy) (1.26.4)\n",
            "Requirement already satisfied: language-data>=1.2 in /usr/local/lib/python3.10/dist-packages (from langcodes<4.0.0,>=3.2.0->spacy) (1.2.0)\n",
            "Requirement already satisfied: annotated-types>=0.6.0 in /usr/local/lib/python3.10/dist-packages (from pydantic!=1.8,!=1.8.1,<3.0.0,>=1.7.4->spacy) (0.7.0)\n",
            "Requirement already satisfied: pydantic-core==2.23.4 in /usr/local/lib/python3.10/dist-packages (from pydantic!=1.8,!=1.8.1,<3.0.0,>=1.7.4->spacy) (2.23.4)\n",
            "Requirement already satisfied: typing-extensions>=4.6.1 in /usr/local/lib/python3.10/dist-packages (from pydantic!=1.8,!=1.8.1,<3.0.0,>=1.7.4->spacy) (4.12.2)\n",
            "Requirement already satisfied: charset-normalizer<4,>=2 in /usr/local/lib/python3.10/dist-packages (from requests<3.0.0,>=2.13.0->spacy) (3.3.2)\n",
            "Requirement already satisfied: idna<4,>=2.5 in /usr/local/lib/python3.10/dist-packages (from requests<3.0.0,>=2.13.0->spacy) (3.10)\n",
            "Requirement already satisfied: urllib3<3,>=1.21.1 in /usr/local/lib/python3.10/dist-packages (from requests<3.0.0,>=2.13.0->spacy) (2.2.3)\n",
            "Requirement already satisfied: certifi>=2017.4.17 in /usr/local/lib/python3.10/dist-packages (from requests<3.0.0,>=2.13.0->spacy) (2024.8.30)\n",
            "Requirement already satisfied: blis<0.8.0,>=0.7.8 in /usr/local/lib/python3.10/dist-packages (from thinc<8.3.0,>=8.2.2->spacy) (0.7.11)\n",
            "Requirement already satisfied: confection<1.0.0,>=0.0.1 in /usr/local/lib/python3.10/dist-packages (from thinc<8.3.0,>=8.2.2->spacy) (0.1.5)\n",
            "Requirement already satisfied: click>=8.0.0 in /usr/local/lib/python3.10/dist-packages (from typer<1.0.0,>=0.3.0->spacy) (8.1.7)\n",
            "Requirement already satisfied: shellingham>=1.3.0 in /usr/local/lib/python3.10/dist-packages (from typer<1.0.0,>=0.3.0->spacy) (1.5.4)\n",
            "Requirement already satisfied: rich>=10.11.0 in /usr/local/lib/python3.10/dist-packages (from typer<1.0.0,>=0.3.0->spacy) (13.8.1)\n",
            "Requirement already satisfied: cloudpathlib<1.0.0,>=0.7.0 in /usr/local/lib/python3.10/dist-packages (from weasel<0.5.0,>=0.1.0->spacy) (0.19.0)\n",
            "Requirement already satisfied: smart-open<8.0.0,>=5.2.1 in /usr/local/lib/python3.10/dist-packages (from weasel<0.5.0,>=0.1.0->spacy) (7.0.4)\n",
            "Requirement already satisfied: MarkupSafe>=2.0 in /usr/local/lib/python3.10/dist-packages (from jinja2->spacy) (2.1.5)\n",
            "Requirement already satisfied: marisa-trie>=0.7.7 in /usr/local/lib/python3.10/dist-packages (from language-data>=1.2->langcodes<4.0.0,>=3.2.0->spacy) (1.2.0)\n",
            "Requirement already satisfied: markdown-it-py>=2.2.0 in /usr/local/lib/python3.10/dist-packages (from rich>=10.11.0->typer<1.0.0,>=0.3.0->spacy) (3.0.0)\n",
            "Requirement already satisfied: pygments<3.0.0,>=2.13.0 in /usr/local/lib/python3.10/dist-packages (from rich>=10.11.0->typer<1.0.0,>=0.3.0->spacy) (2.18.0)\n",
            "Requirement already satisfied: wrapt in /usr/local/lib/python3.10/dist-packages (from smart-open<8.0.0,>=5.2.1->weasel<0.5.0,>=0.1.0->spacy) (1.16.0)\n",
            "Requirement already satisfied: mdurl~=0.1 in /usr/local/lib/python3.10/dist-packages (from markdown-it-py>=2.2.0->rich>=10.11.0->typer<1.0.0,>=0.3.0->spacy) (0.1.2)\n"
          ]
        }
      ]
    },
    {
      "cell_type": "code",
      "source": [
        "import spacy"
      ],
      "metadata": {
        "id": "QISzPYEY_K0h"
      },
      "execution_count": 10,
      "outputs": []
    },
    {
      "cell_type": "code",
      "source": [
        "!python -m spacy download en_core_web_sm"
      ],
      "metadata": {
        "colab": {
          "base_uri": "https://localhost:8080/"
        },
        "collapsed": true,
        "id": "ycOT5zB0_B49",
        "outputId": "ddb7c3f6-ab5e-4389-bdb9-8045d56f94db"
      },
      "execution_count": 11,
      "outputs": [
        {
          "output_type": "stream",
          "name": "stdout",
          "text": [
            "Collecting en-core-web-sm==3.7.1\n",
            "  Downloading https://github.com/explosion/spacy-models/releases/download/en_core_web_sm-3.7.1/en_core_web_sm-3.7.1-py3-none-any.whl (12.8 MB)\n",
            "\u001b[2K     \u001b[90m━━━━━━━━━━━━━━━━━━━━━━━━━━━━━━━━━━━━━━━━\u001b[0m \u001b[32m12.8/12.8 MB\u001b[0m \u001b[31m33.3 MB/s\u001b[0m eta \u001b[36m0:00:00\u001b[0m\n",
            "\u001b[?25hRequirement already satisfied: spacy<3.8.0,>=3.7.2 in /usr/local/lib/python3.10/dist-packages (from en-core-web-sm==3.7.1) (3.7.6)\n",
            "Requirement already satisfied: spacy-legacy<3.1.0,>=3.0.11 in /usr/local/lib/python3.10/dist-packages (from spacy<3.8.0,>=3.7.2->en-core-web-sm==3.7.1) (3.0.12)\n",
            "Requirement already satisfied: spacy-loggers<2.0.0,>=1.0.0 in /usr/local/lib/python3.10/dist-packages (from spacy<3.8.0,>=3.7.2->en-core-web-sm==3.7.1) (1.0.5)\n",
            "Requirement already satisfied: murmurhash<1.1.0,>=0.28.0 in /usr/local/lib/python3.10/dist-packages (from spacy<3.8.0,>=3.7.2->en-core-web-sm==3.7.1) (1.0.10)\n",
            "Requirement already satisfied: cymem<2.1.0,>=2.0.2 in /usr/local/lib/python3.10/dist-packages (from spacy<3.8.0,>=3.7.2->en-core-web-sm==3.7.1) (2.0.8)\n",
            "Requirement already satisfied: preshed<3.1.0,>=3.0.2 in /usr/local/lib/python3.10/dist-packages (from spacy<3.8.0,>=3.7.2->en-core-web-sm==3.7.1) (3.0.9)\n",
            "Requirement already satisfied: thinc<8.3.0,>=8.2.2 in /usr/local/lib/python3.10/dist-packages (from spacy<3.8.0,>=3.7.2->en-core-web-sm==3.7.1) (8.2.5)\n",
            "Requirement already satisfied: wasabi<1.2.0,>=0.9.1 in /usr/local/lib/python3.10/dist-packages (from spacy<3.8.0,>=3.7.2->en-core-web-sm==3.7.1) (1.1.3)\n",
            "Requirement already satisfied: srsly<3.0.0,>=2.4.3 in /usr/local/lib/python3.10/dist-packages (from spacy<3.8.0,>=3.7.2->en-core-web-sm==3.7.1) (2.4.8)\n",
            "Requirement already satisfied: catalogue<2.1.0,>=2.0.6 in /usr/local/lib/python3.10/dist-packages (from spacy<3.8.0,>=3.7.2->en-core-web-sm==3.7.1) (2.0.10)\n",
            "Requirement already satisfied: weasel<0.5.0,>=0.1.0 in /usr/local/lib/python3.10/dist-packages (from spacy<3.8.0,>=3.7.2->en-core-web-sm==3.7.1) (0.4.1)\n",
            "Requirement already satisfied: typer<1.0.0,>=0.3.0 in /usr/local/lib/python3.10/dist-packages (from spacy<3.8.0,>=3.7.2->en-core-web-sm==3.7.1) (0.12.5)\n",
            "Requirement already satisfied: tqdm<5.0.0,>=4.38.0 in /usr/local/lib/python3.10/dist-packages (from spacy<3.8.0,>=3.7.2->en-core-web-sm==3.7.1) (4.66.5)\n",
            "Requirement already satisfied: requests<3.0.0,>=2.13.0 in /usr/local/lib/python3.10/dist-packages (from spacy<3.8.0,>=3.7.2->en-core-web-sm==3.7.1) (2.32.3)\n",
            "Requirement already satisfied: pydantic!=1.8,!=1.8.1,<3.0.0,>=1.7.4 in /usr/local/lib/python3.10/dist-packages (from spacy<3.8.0,>=3.7.2->en-core-web-sm==3.7.1) (2.9.2)\n",
            "Requirement already satisfied: jinja2 in /usr/local/lib/python3.10/dist-packages (from spacy<3.8.0,>=3.7.2->en-core-web-sm==3.7.1) (3.1.4)\n",
            "Requirement already satisfied: setuptools in /usr/local/lib/python3.10/dist-packages (from spacy<3.8.0,>=3.7.2->en-core-web-sm==3.7.1) (71.0.4)\n",
            "Requirement already satisfied: packaging>=20.0 in /usr/local/lib/python3.10/dist-packages (from spacy<3.8.0,>=3.7.2->en-core-web-sm==3.7.1) (24.1)\n",
            "Requirement already satisfied: langcodes<4.0.0,>=3.2.0 in /usr/local/lib/python3.10/dist-packages (from spacy<3.8.0,>=3.7.2->en-core-web-sm==3.7.1) (3.4.0)\n",
            "Requirement already satisfied: numpy>=1.19.0 in /usr/local/lib/python3.10/dist-packages (from spacy<3.8.0,>=3.7.2->en-core-web-sm==3.7.1) (1.26.4)\n",
            "Requirement already satisfied: language-data>=1.2 in /usr/local/lib/python3.10/dist-packages (from langcodes<4.0.0,>=3.2.0->spacy<3.8.0,>=3.7.2->en-core-web-sm==3.7.1) (1.2.0)\n",
            "Requirement already satisfied: annotated-types>=0.6.0 in /usr/local/lib/python3.10/dist-packages (from pydantic!=1.8,!=1.8.1,<3.0.0,>=1.7.4->spacy<3.8.0,>=3.7.2->en-core-web-sm==3.7.1) (0.7.0)\n",
            "Requirement already satisfied: pydantic-core==2.23.4 in /usr/local/lib/python3.10/dist-packages (from pydantic!=1.8,!=1.8.1,<3.0.0,>=1.7.4->spacy<3.8.0,>=3.7.2->en-core-web-sm==3.7.1) (2.23.4)\n",
            "Requirement already satisfied: typing-extensions>=4.6.1 in /usr/local/lib/python3.10/dist-packages (from pydantic!=1.8,!=1.8.1,<3.0.0,>=1.7.4->spacy<3.8.0,>=3.7.2->en-core-web-sm==3.7.1) (4.12.2)\n",
            "Requirement already satisfied: charset-normalizer<4,>=2 in /usr/local/lib/python3.10/dist-packages (from requests<3.0.0,>=2.13.0->spacy<3.8.0,>=3.7.2->en-core-web-sm==3.7.1) (3.3.2)\n",
            "Requirement already satisfied: idna<4,>=2.5 in /usr/local/lib/python3.10/dist-packages (from requests<3.0.0,>=2.13.0->spacy<3.8.0,>=3.7.2->en-core-web-sm==3.7.1) (3.10)\n",
            "Requirement already satisfied: urllib3<3,>=1.21.1 in /usr/local/lib/python3.10/dist-packages (from requests<3.0.0,>=2.13.0->spacy<3.8.0,>=3.7.2->en-core-web-sm==3.7.1) (2.2.3)\n",
            "Requirement already satisfied: certifi>=2017.4.17 in /usr/local/lib/python3.10/dist-packages (from requests<3.0.0,>=2.13.0->spacy<3.8.0,>=3.7.2->en-core-web-sm==3.7.1) (2024.8.30)\n",
            "Requirement already satisfied: blis<0.8.0,>=0.7.8 in /usr/local/lib/python3.10/dist-packages (from thinc<8.3.0,>=8.2.2->spacy<3.8.0,>=3.7.2->en-core-web-sm==3.7.1) (0.7.11)\n",
            "Requirement already satisfied: confection<1.0.0,>=0.0.1 in /usr/local/lib/python3.10/dist-packages (from thinc<8.3.0,>=8.2.2->spacy<3.8.0,>=3.7.2->en-core-web-sm==3.7.1) (0.1.5)\n",
            "Requirement already satisfied: click>=8.0.0 in /usr/local/lib/python3.10/dist-packages (from typer<1.0.0,>=0.3.0->spacy<3.8.0,>=3.7.2->en-core-web-sm==3.7.1) (8.1.7)\n",
            "Requirement already satisfied: shellingham>=1.3.0 in /usr/local/lib/python3.10/dist-packages (from typer<1.0.0,>=0.3.0->spacy<3.8.0,>=3.7.2->en-core-web-sm==3.7.1) (1.5.4)\n",
            "Requirement already satisfied: rich>=10.11.0 in /usr/local/lib/python3.10/dist-packages (from typer<1.0.0,>=0.3.0->spacy<3.8.0,>=3.7.2->en-core-web-sm==3.7.1) (13.8.1)\n",
            "Requirement already satisfied: cloudpathlib<1.0.0,>=0.7.0 in /usr/local/lib/python3.10/dist-packages (from weasel<0.5.0,>=0.1.0->spacy<3.8.0,>=3.7.2->en-core-web-sm==3.7.1) (0.19.0)\n",
            "Requirement already satisfied: smart-open<8.0.0,>=5.2.1 in /usr/local/lib/python3.10/dist-packages (from weasel<0.5.0,>=0.1.0->spacy<3.8.0,>=3.7.2->en-core-web-sm==3.7.1) (7.0.4)\n",
            "Requirement already satisfied: MarkupSafe>=2.0 in /usr/local/lib/python3.10/dist-packages (from jinja2->spacy<3.8.0,>=3.7.2->en-core-web-sm==3.7.1) (2.1.5)\n",
            "Requirement already satisfied: marisa-trie>=0.7.7 in /usr/local/lib/python3.10/dist-packages (from language-data>=1.2->langcodes<4.0.0,>=3.2.0->spacy<3.8.0,>=3.7.2->en-core-web-sm==3.7.1) (1.2.0)\n",
            "Requirement already satisfied: markdown-it-py>=2.2.0 in /usr/local/lib/python3.10/dist-packages (from rich>=10.11.0->typer<1.0.0,>=0.3.0->spacy<3.8.0,>=3.7.2->en-core-web-sm==3.7.1) (3.0.0)\n",
            "Requirement already satisfied: pygments<3.0.0,>=2.13.0 in /usr/local/lib/python3.10/dist-packages (from rich>=10.11.0->typer<1.0.0,>=0.3.0->spacy<3.8.0,>=3.7.2->en-core-web-sm==3.7.1) (2.18.0)\n",
            "Requirement already satisfied: wrapt in /usr/local/lib/python3.10/dist-packages (from smart-open<8.0.0,>=5.2.1->weasel<0.5.0,>=0.1.0->spacy<3.8.0,>=3.7.2->en-core-web-sm==3.7.1) (1.16.0)\n",
            "Requirement already satisfied: mdurl~=0.1 in /usr/local/lib/python3.10/dist-packages (from markdown-it-py>=2.2.0->rich>=10.11.0->typer<1.0.0,>=0.3.0->spacy<3.8.0,>=3.7.2->en-core-web-sm==3.7.1) (0.1.2)\n",
            "\u001b[38;5;2m✔ Download and installation successful\u001b[0m\n",
            "You can now load the package via spacy.load('en_core_web_sm')\n",
            "\u001b[38;5;3m⚠ Restart to reload dependencies\u001b[0m\n",
            "If you are in a Jupyter or Colab notebook, you may need to restart Python in\n",
            "order to load all the package's dependencies. You can do this by selecting the\n",
            "'Restart kernel' or 'Restart runtime' option.\n"
          ]
        }
      ]
    },
    {
      "cell_type": "code",
      "source": [
        "nlp = spacy.load(\"en_core_web_sm\")\n"
      ],
      "metadata": {
        "id": "PBLmSX1W_mWK"
      },
      "execution_count": 12,
      "outputs": []
    },
    {
      "cell_type": "code",
      "source": [
        "excluded_words = spacy.lang.en.stop_words.STOP_WORDS"
      ],
      "metadata": {
        "id": "g5-20aSz_PSb"
      },
      "execution_count": 13,
      "outputs": []
    },
    {
      "cell_type": "code",
      "source": [
        "print(excluded_words)"
      ],
      "metadata": {
        "colab": {
          "base_uri": "https://localhost:8080/"
        },
        "id": "zoQww6KJ-8wc",
        "outputId": "0bb3c82b-11bd-4157-f484-bab6e3b5fc2e"
      },
      "execution_count": 14,
      "outputs": [
        {
          "output_type": "stream",
          "name": "stdout",
          "text": [
            "{'such', 'whom', 'less', 'everything', 'those', 'using', 'back', 'after', 'has', 'whence', 'its', 'hence', \"n't\", 'fifteen', 'she', 'twelve', 'nothing', 'go', 'behind', '’re', 'around', 'throughout', 'beforehand', 'how', 'amongst', 'since', 'one', 'does', 'much', 'doing', 'keep', 'otherwise', 'seem', 'upon', 'had', 'somehow', 'do', 'either', 'various', 'sometimes', 'ourselves', 'which', 'if', 'both', 'made', 'into', 'his', \"'m\", 'never', 'empty', 'latter', 'yourself', 'where', 'next', 'something', 'for', 'three', 'few', 'whenever', 'whereafter', 'though', 'already', 'serious', 'when', 'off', 'thereby', '’ll', 'via', 'others', 'them', 'under', 'third', 'nor', 'everywhere', 'an', 'still', 're', 'n’t', 'whereupon', 'indeed', 'against', 'more', 'herein', 'then', 'are', \"'s\", 'any', 'not', 'it', 'whose', 'even', 'hereupon', 'noone', 'beside', 'so', 'your', 'am', 'within', 'side', 'of', 'sometime', 'became', 'i', 'someone', 'get', 'at', 'itself', 'forty', 'hereby', 'above', 'too', 'hers', 'our', 'five', '‘ll', 'themselves', 'here', 'to', 'because', 'many', 'make', 'nobody', 'himself', 'however', 'wherein', 'until', 'call', 'can', 'eleven', 'none', 'thru', 'up', 'yours', 'her', 'some', 'else', 'onto', 'together', 'besides', 'seeming', 'have', 'done', 'as', 'front', 'us', 'n‘t', 'seems', 'most', 'who', 'namely', 'down', 'least', 'thence', 'everyone', 'my', 'been', 'during', 'yourselves', 'is', 'herself', 'bottom', 'they', 'was', 'elsewhere', 'anyone', \"'ve\", 'last', 'before', 'on', 'twenty', 'mostly', 'eight', 'although', 'another', 'myself', 'put', 'show', 'ca', 'neither', 'ours', 'along', 'me', '‘d', 'why', 'we', 'per', 'only', 'say', 'him', 'somewhere', 'anything', '‘re', 'ever', 'be', '’d', 'whole', 'top', '’m', 'moreover', 'sixty', 'really', 'wherever', 'four', '‘m', 'anyhow', 'did', 'full', 'becomes', 'whoever', 'enough', 'take', 'beyond', 'often', 'amount', 'about', 'this', \"'ll\", 'below', 'other', 'no', 'alone', \"'d\", 'he', 'whereby', 'yet', 'whereas', 'give', 'move', 'a', 'through', \"'re\", 'several', 'also', 'the', 'thereafter', 'become', 'every', 'two', 'anywhere', 'nevertheless', 'rather', 'first', '‘s', 'due', 'again', 'same', 'used', 'becoming', 'latterly', 'must', 'were', '‘ve', 'once', 'what', 'but', 'could', 'further', 'cannot', 'please', 'these', 'all', 'out', 'by', 'afterwards', 'from', 'formerly', 'fifty', 'among', 'would', 'name', 'former', 'whether', 'there', 'meanwhile', 'mine', 'whither', 'now', 'being', 'always', 'well', 'or', 'therein', 'therefore', 'without', 'each', 'nine', 'hundred', 'six', 'between', 'ten', 'whatever', 'quite', 'across', 'and', 'own', 'that', 'with', 'will', 'their', 'seemed', '’ve', 'might', 'nowhere', 'anyway', 'just', 'see', 'than', 'very', 'over', 'you', 'almost', 'perhaps', 'hereafter', '’s', 'may', 'toward', 'should', 'while', 'unless', 'thereupon', 'thus', 'part', 'regarding', 'except', 'towards', 'in'}\n"
          ]
        }
      ]
    },
    {
      "cell_type": "code",
      "source": [
        "schema = StructType([ \\\n",
        "    StructField(\"Name\",StringType(),True), \\\n",
        "    StructField(\"Rating\",IntegerType(),True), \\\n",
        "    StructField(\"Review\",StringType(),True), \\\n",
        "    StructField(\"Date\",StringType(),True), \\\n",
        "    StructField(\"Useful\",IntegerType(),True), \\\n",
        "    StructField(\"Answered\",StringType(),True)\n",
        "    ])"
      ],
      "metadata": {
        "id": "qhB3MKA_n1bM"
      },
      "execution_count": 15,
      "outputs": []
    },
    {
      "cell_type": "code",
      "source": [
        "main_df = spark.read.csv('/content/reviews.txt', schema=schema, sep=']')\n"
      ],
      "metadata": {
        "id": "qr5wZvOrn3q_"
      },
      "execution_count": 16,
      "outputs": []
    },
    {
      "cell_type": "code",
      "source": [
        "main_df = main_df.withColumn(\"Useful\",\n",
        "                             when(col(\"Useful\").isNull(), 0)\n",
        "                             .otherwise(col(\"Useful\")))"
      ],
      "metadata": {
        "id": "c6KbvN2Ybj-T"
      },
      "execution_count": 17,
      "outputs": []
    },
    {
      "cell_type": "code",
      "source": [
        "main_df.show(40)"
      ],
      "metadata": {
        "colab": {
          "base_uri": "https://localhost:8080/"
        },
        "id": "zwGGKQ83rcN4",
        "outputId": "f31d7ed7-a69c-49fb-ff08-71fe9a191ff9"
      },
      "execution_count": 20,
      "outputs": [
        {
          "output_type": "stream",
          "name": "stdout",
          "text": [
            "+--------------------+------+--------------------+----+------+--------+\n",
            "|                Name|Rating|              Review|Date|Useful|Answered|\n",
            "+--------------------+------+--------------------+----+------+--------+\n",
            "|      Kunga Wangchuk|     5|Very easy to use ...|NULL|     0|     Yes|\n",
            "|       Ayush Chauhan|     5|1 really like thi...|NULL|    38|     Yes|\n",
            "|             Kamlesh|     1|I don't like the ...|NULL|     3|     Yes|\n",
            "|       Rahul Waghela|     1|If I could give 0...|NULL|   154|     Yes|\n",
            "|          Vishal Raj|     1|Such a pathatic u...|NULL|     0|     Yes|\n",
            "|        Neeraj Singh|     1|Worst app! They h...|NULL|     3|     Yes|\n",
            "| ANSHUMAN Nahar jain|     5|Recently started ...|NULL|   174|     Yes|\n",
            "|             Nagaraj|     1|If you don't know...|NULL|    86|     Yes|\n",
            "|Naqeeb Nasrulla Khan|     1|The worst app eve...|NULL|    74|     Yes|\n",
            "|         Amir Mondal|     4|Stuck at MPin cre...|NULL|    11|     Yes|\n",
            "|      Sandeep Gavali|     5|I have been using...|NULL|   243|     Yes|\n",
            "|     Tulika Bhandari|     5|The app always be...|NULL|    26|     Yes|\n",
            "|        Animesh Khan|     1|Very bad customer...|NULL|    67|     Yes|\n",
            "|       Farhana Patel|     1|This app is looti...|NULL|    18|     Yes|\n",
            "|Adabala. siva ven...|     1|Worst App Ever! A...|NULL|    63|     Yes|\n",
            "|        Changak Aran|     4|The app doesn't w...|NULL|     0|     Yes|\n",
            "|  Md Madina Sha Immi|     1|Not recommended s...|NULL|    60|     Yes|\n",
            "|      Ramesh Sanghar|     4|Hello preeti, i t...|NULL|    31|     Yes|\n",
            "|        Neeraj Lamba|     1|These guys just s...|NULL|    22|     Yes|\n",
            "|       Abhinav Singh|     1|App is good but s...|NULL|     8|     Yes|\n",
            "| MR᭄Navneet ब्राह्मण|     1|They show that th...|NULL|     0|     Yes|\n",
            "|           Sivabalan|     1|Totally waste app...|NULL|    28|     Yes|\n",
            "|          Gourab Pal|     5|I've been using t...|NULL|     1|     Yes|\n",
            "|      Arvind Agarwal|     1|This update is ru...|NULL|     2|     Yes|\n",
            "|        Rudranil Das|     5|This app is truly...|NULL|     0|     Yes|\n",
            "|   Srimanta Bhandary|     5|The app is truely...|NULL|     0|     Yes|\n",
            "|Shukracharay Meshram|     1|Worst application...|NULL|    13|     Yes|\n",
            "|              Akshay|     1|Wow,even after th...|NULL|     1|     Yes|\n",
            "|    Sheevendra singh|     5|I like how easily...|NULL|     0|     Yes|\n",
            "|              Gudiya|     1|Would give it a 0...|NULL|    12|     Yes|\n",
            "|        Aparna Gorai|     5|the user-friendly...|NULL|     0|     Yes|\n",
            "|        SHALEMU RAJU|     5|I didn't understa...|NULL|     0|     Yes|\n",
            "| Aradhana Srivastava|     5|The Bajaj Finserv...|NULL|     0|     Yes|\n",
            "|         Uttam Bauri|     5|I love using this...|NULL|     0|     Yes|\n",
            "|      BRIJESH SHETTY|     2|Not Good.. Servic...|NULL|    12|     Yes|\n",
            "|           Indra Jit|     5|The app is user f...|NULL|     0|     Yes|\n",
            "|        Alovi Chishi|     1|This is the worst...|NULL|     1|     Yes|\n",
            "|   Himanshu Devaliya|     1|As soon as I open...|NULL|     1|     Yes|\n",
            "|          Baban Gope|     5|This app is amazi...|NULL|     0|     Yes|\n",
            "|     Subhranil Dutta|     5|I love the conven...|NULL|     0|     Yes|\n",
            "+--------------------+------+--------------------+----+------+--------+\n",
            "only showing top 40 rows\n",
            "\n"
          ]
        }
      ]
    },
    {
      "cell_type": "code",
      "source": [
        "main_df.createOrReplaceTempView(\"bajaj\")"
      ],
      "metadata": {
        "id": "bbFP76GtsTv4"
      },
      "execution_count": 22,
      "outputs": []
    },
    {
      "cell_type": "code",
      "source": [
        "cleaned = spark.sql(\"SELECT Name,Review,Useful FROM bajaj;\")"
      ],
      "metadata": {
        "id": "pSstHmvOueaI"
      },
      "execution_count": 23,
      "outputs": []
    },
    {
      "cell_type": "code",
      "source": [
        "cleaned.show(truncate=False)"
      ],
      "metadata": {
        "colab": {
          "base_uri": "https://localhost:8080/"
        },
        "id": "3VZmrcWOxsAK",
        "outputId": "ce3a7475-7456-490d-e3ad-05d8a6e984bb"
      },
      "execution_count": 24,
      "outputs": [
        {
          "output_type": "stream",
          "name": "stdout",
          "text": [
            "+-------------------------+-------------------------------------------------------------------------------------------------------------------------------------------------------------------------------------------------------------------------------------------------------------------------------------------------------------------------------------------------------------------------------------------------------------------------------------------------------------------------------------------------------------------+------+\n",
            "|Name                     |Review                                                                                                                                                                                                                                                                                                                                                                                                                                                                                                             |Useful|\n",
            "+-------------------------+-------------------------------------------------------------------------------------------------------------------------------------------------------------------------------------------------------------------------------------------------------------------------------------------------------------------------------------------------------------------------------------------------------------------------------------------------------------------------------------------------------------------+------+\n",
            "|Kunga Wangchuk           |Very easy to use and is better than most of the UPI apps out there. User friendly interface and easy to understand . This app is a game-changer! It offers a seamless experience for managing finances, from easy loan applications to hassle-free UPI transactions and flexible FD options. The interface is user-friendly, making it easy to navigate even for beginners. Plus, the app's security features ensure peace of mind. Overall, it's a must-have for anyone looking for convenient financial solutions|0     |\n",
            "|Ayush Chauhan            |1 really like this app because it ofers all the benefits for financial stability, It is very easy to navigate and it completes the entire process very quickly. No physical paperwork is required. It provides instant credit. Transferring credit to a bank account is a hassle-free process. And interest rates are lower than other places. Other benefits include additional rewards like vouchers, gift cards, movies, and music subscriptions, etc. Highly recommended                                       |38    |\n",
            "|Kamlesh                  |I don't like the app because I have paid joining fee off approx ₹600 and after getting card number it's showing that you can't use your card online for the first time you have to shop offline for the first time. I have successfully created or linked NACH mendate with my bank account but still it doesn't work because rules are changed I think. So, for me it's a waste of money. I wasted around ₹600 just for getting a card number. It's not like it's bad for everyone! My case is different!         |3     |\n",
            "|Rahul Waghela            |If I could give 0 stars, I would. They keep deducting charges for insufficient balance, even when I maintain the required balance in my account. It feels like they’re only focused on taking money from people. The app is also extremely slow and frustrating to use. There’s no option to pay missed EMIs, which makes things worse. If they can deduct money so easily, they should at least enable a feature for missed payments. Overall, this app is a total disappointment. I wouldn't recommend it to any |154   |\n",
            "|Vishal Raj               |Such a pathatic user experience app wise and financial service wise too, unable to login the app every time asking always asking to set security question but never give the option to set it on other side I have an emi card but I cant order a single product on it payment declines every time and now a days I am unable to find that card....... very disappointing app                                                                                                                                      |0     |\n",
            "|Neeraj Singh             |Worst app! They have charged 699 rupees and at the last step saying unable to proceed the process for EMI CARD. Customer support? Practically non-existent. No matter how many times you report issues, nothing ever gets fixed. It’s beyond frustrating, especially considering this is a financial services app where reliability should be a priority. Save yourself the headache and avoid this app until they make serious improvements! BKL                                                                  |3     |\n",
            "|ANSHUMAN Nahar jain      |Recently started using this finance app and it's been a game-changer for me. It's packed with features like BHIM UPI, fixed deposits, personal loans, and bill payments - all in one place. The app has made paying bills and transferring money a breeze. I've even checked my credit score and applied for a loan, all without leaving the app. It's user-friendly and has pretty much everything I need for my financial tasks. I love bajaj app very much.                                                     |174   |\n",
            "|Nagaraj                  |If you don't know how to maintain a app, then why to bother create one? The app is so slow and not a single link works in the app, not the profile details, not the relations status, not the loan emi status, nothing.... Initially I thought it might be my network issue, but later I realised it's the app issue as other apps which uses internet works very well fine. So, kindly fix the issue ASAP.                                                                                                        |86    |\n",
            "|Naqeeb Nasrulla Khan     |The worst app ever, with extremely high charges and interest rates. I previously paid the EMI for the month of September 2024 a day before the due date, yet they are charging Rs. 2000. And I'm trying to connect with customer service to highlight the issue, but it's not connecting.                                                                                                                                                                                                                          |74    |\n",
            "|Amir Mondal              |Stuck at MPin creation after new update. Does not allow me to choose the question from the drop-down list. Hence I cannot log into the app anymore. Edit : Was able to log in after several attempts. Glad to be back.                                                                                                                                                                                                                                                                                             |11    |\n",
            "|Sandeep Gavali           |I have been using the Bajaj Finserv app for managing my loans and EMIs, and it has been an excellent experience. The user interface is intuitive and easy to navigate. Customer service is prompt and helpful whenever I've had questions. I particularly appreciate the ability to quickly check my EMI schedule and make payments seamlessly. Overall, a fantastic app for financial management!\"                                                                                                                |243   |\n",
            "|Tulika Bhandari          |The app always been my go to platform for any kind of financial need and after the latest update it's even better. The new update enabled the app to run smoother and faster than ever. It has beenmy favourite payment app and it can be yours too so do give it a try.                                                                                                                                                                                                                                           |26    |\n",
            "|Animesh Khan             |Very bad customer service. There is no way to clarify your doubts , there is no customer support no , virtual assistant is of no use . I paid the loan amount in advance but still my emi is bounced...no one to clarify my problem from customer care. I don't know where the paid amount gone. It has not been settled in my account. I am not able to know what the hell is happening. Due to bounced emi my card is blocked.                                                                                   |67    |\n",
            "|Farhana Patel            |This app is looting people's. Very poor response. I made EMI card with annual fees . Now they blocked my cards when I paid every EMI on time no any due. Then also my card is blocked now I can't use my card . There is no any customer care number than I can solve this problem. please try other option don't recommend BAJAJ FINSERV .                                                                                                                                                                        |18    |\n",
            "|Adabala. siva venkata sai|Worst App Ever! Avoid at All Costs Review: I've had an absolutely terrible experience with the Bajaj Finance app. The app is slow, buggy, and incredibly frustrating to use. I applied for a loan and a credit card, but there's been no response whatsoever. Even after my friend followed all the terms and conditions, the promised referral amount was never added to his account. I strongly advise anyone considering Bajaj Finance to think twice. This app is a complete waste of time and effort. There   |63    |\n",
            "|Changak Aran             |The app doesn't work, it gets stuck at \" we are processing your request\" forever. I have logged in, got my new upi id and all but the app won't work after the page appears. Please assist.                                                                                                                                                                                                                                                                                                                        |0     |\n",
            "|Md Madina Sha Immi       |Not recommended strongly,even though u have credit balance u can't even utilize it went to office requested to open block asking to wait for 4 months it's better to go some other platform it may give more opportunities with cibil but this people send msg every time once u open that u will get noting....waste of time n everything im withdrawing all of my company's cards better don't trust this app......                                                                                              |60    |\n",
            "|Ramesh Sanghar           |Hello preeti, i think you haven't read my whole review, I'm a developer so i need USB debugging on what I'm saying is it's not required by any other payments apps so if possible Remove this or make it optional. Other any payments app don't have this like gpay, PayPal, paytm, none. It's really annoying please remove this.                                                                                                                                                                                 |31    |\n",
            "|Neeraj Lamba             |These guys just scam on people by giving them an Insta Emi Card and later the card doesn't even work. They are looting people by getting a one time payment and annual fees from them. I tried using the card on Amazon and Flipkart but it was for nothing. When I reached out to them they told me that my credit score was too low. I don't think 700+ is a bad score. And even if it is, they should not have given me the card in the first place. Don't buy their cards!!!                                   |22    |\n",
            "|Abhinav Singh            |App is good but services offered by Bajaj finance is worst. They provide loan beyond requirements and under cover they charges ANNUAL MAINTENANCE CHARGES every year for several years even you don't used that much amount. Moreover if you require to reduce your total withdrawal amount, they will not reduce becoz under cover of huge withdrawal amount they charges huge AMC. Never trust on this type of loan, they just want to grab your hard earned money in term of various charges.                   |8     |\n",
            "+-------------------------+-------------------------------------------------------------------------------------------------------------------------------------------------------------------------------------------------------------------------------------------------------------------------------------------------------------------------------------------------------------------------------------------------------------------------------------------------------------------------------------------------------------------+------+\n",
            "only showing top 20 rows\n",
            "\n"
          ]
        }
      ]
    },
    {
      "cell_type": "code",
      "source": [
        "words = main_df.select(explode(split(col(\"Review\"),\" \")).alias(\"word\"))"
      ],
      "metadata": {
        "id": "xh_SmcpxwDVX"
      },
      "execution_count": 25,
      "outputs": []
    },
    {
      "cell_type": "code",
      "source": [
        "words_finder = words.groupBy(\"word\").agg(count(\"word\").alias(\"count\")).orderBy(desc(\"count\"))"
      ],
      "metadata": {
        "id": "cN3Brfgiur09"
      },
      "execution_count": 26,
      "outputs": []
    },
    {
      "cell_type": "code",
      "source": [
        "filtered_words = words_finder.filter(~col(\"word\").isin(excluded_words))"
      ],
      "metadata": {
        "id": "gRzMQ9Gwu-J8"
      },
      "execution_count": 27,
      "outputs": []
    },
    {
      "cell_type": "code",
      "source": [
        "filtered_words.show(60)"
      ],
      "metadata": {
        "colab": {
          "base_uri": "https://localhost:8080/"
        },
        "id": "wVvICMLGlu0d",
        "outputId": "6fb9edb0-7742-4a86-f397-759a80130990"
      },
      "execution_count": 28,
      "outputs": [
        {
          "output_type": "stream",
          "name": "stdout",
          "text": [
            "+-----------+-----+\n",
            "|       word|count|\n",
            "+-----------+-----+\n",
            "|          I|  788|\n",
            "|        app|  707|\n",
            "|        The|  259|\n",
            "|       loan|  247|\n",
            "|       easy|  219|\n",
            "|      Bajaj|  213|\n",
            "|       card|  207|\n",
            "|        use|  156|\n",
            "|   customer|  155|\n",
            "|       This|  150|\n",
            "|       time|  148|\n",
            "|       it's|  138|\n",
            "| experience|  134|\n",
            "|  interface|  123|\n",
            "|        emi|  117|\n",
            "|       Very|  117|\n",
            "|  financial|  114|\n",
            "|       app.|  113|\n",
            "|         It|  112|\n",
            "|application|  112|\n",
            "|       good|  108|\n",
            "|        EMI|  102|\n",
            "|          .|   96|\n",
            "|    service|   95|\n",
            "|      don't|   90|\n",
            "|       user|   88|\n",
            "|      loans|   86|\n",
            "|       like|   85|\n",
            "|        UPI|   85|\n",
            "|    Finserv|   84|\n",
            "|       It's|   80|\n",
            "|    payment|   79|\n",
            "|      money|   75|\n",
            "|     credit|   71|\n",
            "|   managing|   69|\n",
            "|      bajaj|   69|\n",
            "|     update|   69|\n",
            "|   features|   69|\n",
            "|    process|   66|\n",
            "|    showing|   65|\n",
            "|     option|   64|\n",
            "|    support|   62|\n",
            "|     offers|   62|\n",
            "|       They|   62|\n",
            "|        pay|   61|\n",
            "|      Worst|   60|\n",
            "|   payments|   60|\n",
            "|      can't|   58|\n",
            "|        bad|   58|\n",
            "|   friendly|   58|\n",
            "|       care|   58|\n",
            "|    finance|   55|\n",
            "|   personal|   53|\n",
            "|      worst|   52|\n",
            "|       paid|   52|\n",
            "|        App|   51|\n",
            "|      quick|   51|\n",
            "|      great|   47|\n",
            "|        I'm|   47|\n",
            "|       want|   47|\n",
            "+-----------+-----+\n",
            "only showing top 60 rows\n",
            "\n"
          ]
        }
      ]
    },
    {
      "cell_type": "code",
      "source": [
        "mainde = spark.sql(\"SELECT * FROM bajaj WHERE Rating < 4 AND (Review LIKE '%worst%' OR Review LIKE '%Worst%');\")"
      ],
      "metadata": {
        "id": "Vc7_WDfIVSkN"
      },
      "execution_count": 29,
      "outputs": []
    },
    {
      "cell_type": "code",
      "source": [
        "mainde.select(count(\"Review\")).show()"
      ],
      "metadata": {
        "colab": {
          "base_uri": "https://localhost:8080/"
        },
        "id": "IOJ9WAsQYlLR",
        "outputId": "a4835da9-6bdb-4c8b-9b0a-391e5bb83d8e"
      },
      "execution_count": 30,
      "outputs": [
        {
          "output_type": "stream",
          "name": "stdout",
          "text": [
            "+-------------+\n",
            "|count(Review)|\n",
            "+-------------+\n",
            "|          114|\n",
            "+-------------+\n",
            "\n"
          ]
        }
      ]
    },
    {
      "cell_type": "markdown",
      "source": [
        "### END\n",
        "\n"
      ],
      "metadata": {
        "id": "y4GaKnN0e-S7"
      }
    },
    {
      "cell_type": "code",
      "source": [
        "from transformers import pipeline"
      ],
      "metadata": {
        "id": "qFF4IBclChaI"
      },
      "execution_count": null,
      "outputs": []
    },
    {
      "cell_type": "code",
      "source": [
        "pipe = pipeline(\"text-classification\", model=\"siebert/sentiment-roberta-large-english\")"
      ],
      "metadata": {
        "id": "71MFcXTqOKWC"
      },
      "execution_count": null,
      "outputs": []
    },
    {
      "cell_type": "code",
      "source": [
        "from transformers import AutoTokenizer, AutoModelForSequenceClassification\n"
      ],
      "metadata": {
        "id": "HgsNe__fQdak"
      },
      "execution_count": null,
      "outputs": []
    },
    {
      "cell_type": "code",
      "source": [
        "tokenizer = AutoTokenizer.from_pretrained(\"siebert/sentiment-roberta-large-english\")"
      ],
      "metadata": {
        "id": "a8r42V_-QFcv"
      },
      "execution_count": null,
      "outputs": []
    },
    {
      "cell_type": "code",
      "source": [
        "model = AutoModelForSequenceClassification.from_pretrained(\"siebert/sentiment-roberta-large-english\")"
      ],
      "metadata": {
        "id": "yo8tsd7xQePu"
      },
      "execution_count": null,
      "outputs": []
    },
    {
      "cell_type": "code",
      "source": [
        "inputs = tokenizer(\"Hello, you are waste\", return_tensors=\"pt\")\n",
        "outputs = model(**inputs)\n",
        "\n",
        "prediction_logits = outputs.logits"
      ],
      "metadata": {
        "id": "loRNnt8pQhQm"
      },
      "execution_count": null,
      "outputs": []
    },
    {
      "cell_type": "code",
      "source": [
        "print(outputs)"
      ],
      "metadata": {
        "colab": {
          "base_uri": "https://localhost:8080/"
        },
        "id": "VLZoyaT8Q0ku",
        "outputId": "4d4979f6-8ac7-424d-da11-9e96bbca9316"
      },
      "execution_count": null,
      "outputs": [
        {
          "output_type": "stream",
          "name": "stdout",
          "text": [
            "SequenceClassifierOutput(loss=None, logits=tensor([[-3.2294,  2.4462]], grad_fn=<AddmmBackward0>), hidden_states=None, attentions=None)\n"
          ]
        }
      ]
    },
    {
      "cell_type": "code",
      "source": [],
      "metadata": {
        "id": "aoP5CmXaSUsa"
      },
      "execution_count": null,
      "outputs": []
    }
  ]
}